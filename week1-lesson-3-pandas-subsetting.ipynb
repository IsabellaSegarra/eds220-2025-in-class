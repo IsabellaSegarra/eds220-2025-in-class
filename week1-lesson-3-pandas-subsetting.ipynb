{
 "cells": [
  {
   "cell_type": "markdown",
   "id": "a695e371-2b52-4c9e-93de-1b45fe70f951",
   "metadata": {},
   "source": [
    "# Subsetting \n",
    "\n",
    "Review core methods to select data from a `pandas.DataFrame`\n",
    "\n",
    "## Read in CSV"
   ]
  },
  {
   "cell_type": "code",
   "execution_count": 1,
   "id": "d29168c4-c1ed-4560-b5db-2a9daee05c44",
   "metadata": {
    "tags": []
   },
   "outputs": [
    {
     "data": {
      "text/html": [
       "<div>\n",
       "<style scoped>\n",
       "    .dataframe tbody tr th:only-of-type {\n",
       "        vertical-align: middle;\n",
       "    }\n",
       "\n",
       "    .dataframe tbody tr th {\n",
       "        vertical-align: top;\n",
       "    }\n",
       "\n",
       "    .dataframe thead th {\n",
       "        text-align: right;\n",
       "    }\n",
       "</style>\n",
       "<table border=\"1\" class=\"dataframe\">\n",
       "  <thead>\n",
       "    <tr style=\"text-align: right;\">\n",
       "      <th></th>\n",
       "      <th>year</th>\n",
       "      <th>CSM_winter</th>\n",
       "      <th>CSM_spring</th>\n",
       "      <th>CSM_fall</th>\n",
       "      <th>MUL_winter</th>\n",
       "      <th>MUL_spring</th>\n",
       "      <th>MUL_fall</th>\n",
       "      <th>SDW_winter</th>\n",
       "      <th>SDW_spring</th>\n",
       "      <th>SDW_fall</th>\n",
       "      <th>TJE_winter</th>\n",
       "      <th>TJE_spring</th>\n",
       "      <th>TJE_fall</th>\n",
       "    </tr>\n",
       "  </thead>\n",
       "  <tbody>\n",
       "    <tr>\n",
       "      <th>0</th>\n",
       "      <td>2010</td>\n",
       "      <td>39.0</td>\n",
       "      <td>40.0</td>\n",
       "      <td>50.0</td>\n",
       "      <td>45.0</td>\n",
       "      <td>NaN</td>\n",
       "      <td>61.0</td>\n",
       "      <td>NaN</td>\n",
       "      <td>75.0</td>\n",
       "      <td>85.0</td>\n",
       "      <td>NaN</td>\n",
       "      <td>NaN</td>\n",
       "      <td>81.0</td>\n",
       "    </tr>\n",
       "    <tr>\n",
       "      <th>1</th>\n",
       "      <td>2011</td>\n",
       "      <td>48.0</td>\n",
       "      <td>44.0</td>\n",
       "      <td>NaN</td>\n",
       "      <td>58.0</td>\n",
       "      <td>52.0</td>\n",
       "      <td>NaN</td>\n",
       "      <td>78.0</td>\n",
       "      <td>74.0</td>\n",
       "      <td>NaN</td>\n",
       "      <td>67.0</td>\n",
       "      <td>70.0</td>\n",
       "      <td>NaN</td>\n",
       "    </tr>\n",
       "    <tr>\n",
       "      <th>2</th>\n",
       "      <td>2012</td>\n",
       "      <td>51.0</td>\n",
       "      <td>43.0</td>\n",
       "      <td>49.0</td>\n",
       "      <td>57.0</td>\n",
       "      <td>58.0</td>\n",
       "      <td>53.0</td>\n",
       "      <td>71.0</td>\n",
       "      <td>72.0</td>\n",
       "      <td>73.0</td>\n",
       "      <td>70.0</td>\n",
       "      <td>63.0</td>\n",
       "      <td>69.0</td>\n",
       "    </tr>\n",
       "    <tr>\n",
       "      <th>3</th>\n",
       "      <td>2013</td>\n",
       "      <td>42.0</td>\n",
       "      <td>46.0</td>\n",
       "      <td>38.0</td>\n",
       "      <td>60.0</td>\n",
       "      <td>58.0</td>\n",
       "      <td>62.0</td>\n",
       "      <td>69.0</td>\n",
       "      <td>70.0</td>\n",
       "      <td>70.0</td>\n",
       "      <td>69.0</td>\n",
       "      <td>74.0</td>\n",
       "      <td>64.0</td>\n",
       "    </tr>\n",
       "    <tr>\n",
       "      <th>4</th>\n",
       "      <td>2014</td>\n",
       "      <td>38.0</td>\n",
       "      <td>43.0</td>\n",
       "      <td>45.0</td>\n",
       "      <td>49.0</td>\n",
       "      <td>52.0</td>\n",
       "      <td>57.0</td>\n",
       "      <td>61.0</td>\n",
       "      <td>78.0</td>\n",
       "      <td>71.0</td>\n",
       "      <td>60.0</td>\n",
       "      <td>81.0</td>\n",
       "      <td>62.0</td>\n",
       "    </tr>\n",
       "  </tbody>\n",
       "</table>\n",
       "</div>"
      ],
      "text/plain": [
       "   year  CSM_winter  CSM_spring  CSM_fall  MUL_winter  MUL_spring  MUL_fall  \\\n",
       "0  2010        39.0        40.0      50.0        45.0         NaN      61.0   \n",
       "1  2011        48.0        44.0       NaN        58.0        52.0       NaN   \n",
       "2  2012        51.0        43.0      49.0        57.0        58.0      53.0   \n",
       "3  2013        42.0        46.0      38.0        60.0        58.0      62.0   \n",
       "4  2014        38.0        43.0      45.0        49.0        52.0      57.0   \n",
       "\n",
       "   SDW_winter  SDW_spring  SDW_fall  TJE_winter  TJE_spring  TJE_fall  \n",
       "0         NaN        75.0      85.0         NaN         NaN      81.0  \n",
       "1        78.0        74.0       NaN        67.0        70.0       NaN  \n",
       "2        71.0        72.0      73.0        70.0        63.0      69.0  \n",
       "3        69.0        70.0      70.0        69.0        74.0      64.0  \n",
       "4        61.0        78.0      71.0        60.0        81.0      62.0  "
      ]
     },
     "execution_count": 1,
     "metadata": {},
     "output_type": "execute_result"
    }
   ],
   "source": [
    "import pandas as pd\n",
    "\n",
    "# Read in file, argument is the file path \n",
    "\n",
    "df = pd.read_csv('data/wetlands_seasonal_bird_diversity.csv')\n",
    "\n",
    "# Print data frame's first five rows\n",
    "\n",
    "df.head()"
   ]
  },
  {
   "cell_type": "code",
   "execution_count": 2,
   "id": "a908ade7-8f54-401e-8e92-e4522de908b9",
   "metadata": {
    "tags": []
   },
   "outputs": [
    {
     "data": {
      "text/html": [
       "<div>\n",
       "<style scoped>\n",
       "    .dataframe tbody tr th:only-of-type {\n",
       "        vertical-align: middle;\n",
       "    }\n",
       "\n",
       "    .dataframe tbody tr th {\n",
       "        vertical-align: top;\n",
       "    }\n",
       "\n",
       "    .dataframe thead th {\n",
       "        text-align: right;\n",
       "    }\n",
       "</style>\n",
       "<table border=\"1\" class=\"dataframe\">\n",
       "  <thead>\n",
       "    <tr style=\"text-align: right;\">\n",
       "      <th></th>\n",
       "      <th>year</th>\n",
       "      <th>CSM_winter</th>\n",
       "      <th>CSM_spring</th>\n",
       "      <th>CSM_fall</th>\n",
       "      <th>MUL_winter</th>\n",
       "      <th>MUL_spring</th>\n",
       "      <th>MUL_fall</th>\n",
       "      <th>SDW_winter</th>\n",
       "      <th>SDW_spring</th>\n",
       "      <th>SDW_fall</th>\n",
       "      <th>TJE_winter</th>\n",
       "      <th>TJE_spring</th>\n",
       "      <th>TJE_fall</th>\n",
       "    </tr>\n",
       "  </thead>\n",
       "  <tbody>\n",
       "    <tr>\n",
       "      <th>9</th>\n",
       "      <td>2019</td>\n",
       "      <td>39.0</td>\n",
       "      <td>39.0</td>\n",
       "      <td>40.0</td>\n",
       "      <td>57.0</td>\n",
       "      <td>52.0</td>\n",
       "      <td>53.0</td>\n",
       "      <td>54.0</td>\n",
       "      <td>55.0</td>\n",
       "      <td>53.0</td>\n",
       "      <td>63.0</td>\n",
       "      <td>54.0</td>\n",
       "      <td>50.0</td>\n",
       "    </tr>\n",
       "    <tr>\n",
       "      <th>10</th>\n",
       "      <td>2020</td>\n",
       "      <td>46.0</td>\n",
       "      <td>NaN</td>\n",
       "      <td>47.0</td>\n",
       "      <td>56.0</td>\n",
       "      <td>NaN</td>\n",
       "      <td>66.0</td>\n",
       "      <td>57.0</td>\n",
       "      <td>NaN</td>\n",
       "      <td>58.0</td>\n",
       "      <td>54.0</td>\n",
       "      <td>40.0</td>\n",
       "      <td>54.0</td>\n",
       "    </tr>\n",
       "    <tr>\n",
       "      <th>11</th>\n",
       "      <td>2021</td>\n",
       "      <td>47.0</td>\n",
       "      <td>44.0</td>\n",
       "      <td>53.0</td>\n",
       "      <td>54.0</td>\n",
       "      <td>55.0</td>\n",
       "      <td>60.0</td>\n",
       "      <td>57.0</td>\n",
       "      <td>58.0</td>\n",
       "      <td>57.0</td>\n",
       "      <td>53.0</td>\n",
       "      <td>68.0</td>\n",
       "      <td>51.0</td>\n",
       "    </tr>\n",
       "    <tr>\n",
       "      <th>12</th>\n",
       "      <td>2022</td>\n",
       "      <td>40.0</td>\n",
       "      <td>46.0</td>\n",
       "      <td>49.0</td>\n",
       "      <td>60.0</td>\n",
       "      <td>55.0</td>\n",
       "      <td>65.0</td>\n",
       "      <td>57.0</td>\n",
       "      <td>60.0</td>\n",
       "      <td>57.0</td>\n",
       "      <td>60.0</td>\n",
       "      <td>61.0</td>\n",
       "      <td>60.0</td>\n",
       "    </tr>\n",
       "    <tr>\n",
       "      <th>13</th>\n",
       "      <td>2023</td>\n",
       "      <td>56.0</td>\n",
       "      <td>43.0</td>\n",
       "      <td>36.0</td>\n",
       "      <td>72.0</td>\n",
       "      <td>59.0</td>\n",
       "      <td>53.0</td>\n",
       "      <td>64.0</td>\n",
       "      <td>63.0</td>\n",
       "      <td>33.0</td>\n",
       "      <td>60.0</td>\n",
       "      <td>56.0</td>\n",
       "      <td>38.0</td>\n",
       "    </tr>\n",
       "  </tbody>\n",
       "</table>\n",
       "</div>"
      ],
      "text/plain": [
       "    year  CSM_winter  CSM_spring  CSM_fall  MUL_winter  MUL_spring  MUL_fall  \\\n",
       "9   2019        39.0        39.0      40.0        57.0        52.0      53.0   \n",
       "10  2020        46.0         NaN      47.0        56.0         NaN      66.0   \n",
       "11  2021        47.0        44.0      53.0        54.0        55.0      60.0   \n",
       "12  2022        40.0        46.0      49.0        60.0        55.0      65.0   \n",
       "13  2023        56.0        43.0      36.0        72.0        59.0      53.0   \n",
       "\n",
       "    SDW_winter  SDW_spring  SDW_fall  TJE_winter  TJE_spring  TJE_fall  \n",
       "9         54.0        55.0      53.0        63.0        54.0      50.0  \n",
       "10        57.0         NaN      58.0        54.0        40.0      54.0  \n",
       "11        57.0        58.0      57.0        53.0        68.0      51.0  \n",
       "12        57.0        60.0      57.0        60.0        61.0      60.0  \n",
       "13        64.0        63.0      33.0        60.0        56.0      38.0  "
      ]
     },
     "execution_count": 2,
     "metadata": {},
     "output_type": "execute_result"
    }
   ],
   "source": [
    "# Print the data frame's last five rows\n",
    "\n",
    "df.tail()"
   ]
  },
  {
   "cell_type": "code",
   "execution_count": 3,
   "id": "14dd14f0-f7fa-473e-9732-d581b40984c0",
   "metadata": {
    "tags": []
   },
   "outputs": [
    {
     "ename": "SyntaxError",
     "evalue": "incomplete input (3474014881.py, line 3)",
     "output_type": "error",
     "traceback": [
      "\u001b[0;36m  Cell \u001b[0;32mIn[3], line 3\u001b[0;36m\u001b[0m\n\u001b[0;31m    df.columns (#all functions have parenthesis, this is an attribute)\u001b[0m\n\u001b[0m                                                                      ^\u001b[0m\n\u001b[0;31mSyntaxError\u001b[0m\u001b[0;31m:\u001b[0m incomplete input\n"
     ]
    }
   ],
   "source": [
    "# Print data frame's column names \n",
    "\n",
    "df.columns (#all functions have parenthesis, this is an attribute)"
   ]
  },
  {
   "cell_type": "code",
   "execution_count": null,
   "id": "c2d3c156-6a52-4106-b5a4-0bf638795d67",
   "metadata": {
    "tags": []
   },
   "outputs": [],
   "source": [
    "# List the data types of each column \n",
    "\n",
    "df.dtypes"
   ]
  },
  {
   "cell_type": "code",
   "execution_count": null,
   "id": "8c07211b-591f-41f6-ae8d-67354bef9984",
   "metadata": {
    "tags": []
   },
   "outputs": [],
   "source": [
    "type(df.dtypes)"
   ]
  },
  {
   "cell_type": "code",
   "execution_count": null,
   "id": "74642422-3e61-48cc-9455-7a1b8421f735",
   "metadata": {
    "tags": []
   },
   "outputs": [],
   "source": [
    "# Print data frame's shape: output is a tupe (#rows, #columns)\n",
    "\n",
    "df.shape"
   ]
  },
  {
   "cell_type": "markdown",
   "id": "236524de-180f-4742-8ded-776d2796db6f",
   "metadata": {},
   "source": [
    "## Selecting a single column \n",
    "\n",
    "Simplest case: selecting a single column by column name\n",
    "\n",
    "General syntax: \n",
    "```\n",
    "df ['column_name']\n",
    "\n",
    "```\n",
    "\n",
    "This is an example of **label-based subsetting**. Which means we select data from our data frame using the *names* of the columns, *not their position*. \n",
    "\n",
    "### Example"
   ]
  },
  {
   "cell_type": "code",
   "execution_count": null,
   "id": "57a6bce7-72b4-4860-8ea4-9b6e7ba35b43",
   "metadata": {
    "tags": []
   },
   "outputs": [],
   "source": [
    " # Select the number of bird species observed at Mugu Lagoon in Spring.\n",
    "    \n",
    "mul_spring = df['MUL_spring']\n",
    "\n",
    "mul_spring"
   ]
  },
  {
   "cell_type": "code",
   "execution_count": null,
   "id": "1749c7a1-1b7f-44a2-bde9-175ae4c390cb",
   "metadata": {
    "tags": []
   },
   "outputs": [],
   "source": [
    "type(mul_spring)"
   ]
  },
  {
   "cell_type": "markdown",
   "id": "48b3e8c6-8092-4055-8f78-ec44f6d40540",
   "metadata": {},
   "source": [
    "We can do label-based subsetting of a single column using attribute syntax. \n",
    "\n",
    "`df.column_name`\n",
    "\n",
    "### Example"
   ]
  },
  {
   "cell_type": "code",
   "execution_count": null,
   "id": "9d2f1bcd-2273-44ac-8069-762bd540ca6f",
   "metadata": {
    "tags": []
   },
   "outputs": [],
   "source": [
    "df.MUL_spring"
   ]
  },
  {
   "cell_type": "markdown",
   "id": "53ed890a-9d43-4378-9ed7-ef0f8b1fdfd7",
   "metadata": {},
   "source": [
    "Favor `df['column_name']` instead of `df.column_name`\n",
    "\n",
    "Why? COlumn names can have spaces, they can be the same as the attribute of the df. \n"
   ]
  },
  {
   "cell_type": "markdown",
   "id": "78365a5a-09bc-4e34-bfa3-5c16ea2c1a2b",
   "metadata": {},
   "source": [
    "## Selecting multiple columns\n",
    "\n",
    "Using a list of column names. \n",
    "\n",
    "SYntax:\n",
    "```\n",
    "df[ ['column_1', 'column_10', 'column_245']]\n",
    "\n",
    "```\n",
    "\n",
    "Notice: there are double square brackets! This is because we are passing a list of names to the selection brackets.  \n",
    "\n",
    "### Example\n"
   ]
  },
  {
   "cell_type": "code",
   "execution_count": null,
   "id": "03ea3dff-32e8-489b-b9d0-d6b13cfbe535",
   "metadata": {
    "tags": []
   },
   "outputs": [],
   "source": [
    "# Select species abundance in Tijuana Estuary during winter and fall. \n",
    "\n",
    "tje_wf = df[['TJE_winter', 'TJE_fall']]\n",
    "\n",
    "tje_wf"
   ]
  },
  {
   "cell_type": "code",
   "execution_count": null,
   "id": "c0cd1f0b-0746-434e-8d5b-bf26be7bf4ef",
   "metadata": {
    "tags": []
   },
   "outputs": [],
   "source": [
    "tje_wf.dtypes"
   ]
  },
  {
   "cell_type": "code",
   "execution_count": null,
   "id": "7bbdaedd-7e80-4472-b77a-6bf6485b4b06",
   "metadata": {
    "tags": []
   },
   "outputs": [],
   "source": [
    "tje_wf.shape"
   ]
  },
  {
   "cell_type": "code",
   "execution_count": null,
   "id": "35db86f5-c585-4f75-9a39-cbe2153270d1",
   "metadata": {
    "tags": []
   },
   "outputs": [],
   "source": [
    "type(tje_wf)"
   ]
  },
  {
   "cell_type": "markdown",
   "id": "573659d6-96ee-4bfa-bb1e-5d2fe28bee0c",
   "metadata": {},
   "source": [
    "## Selecting using a slice \n",
    "\n",
    "To select a slice of the columns we will use a specie case of `loc` selection. \n",
    "\n",
    "Syntax:\n",
    "\n",
    "```\n",
    "df.loc[ :, 'column_start':'column_end']\n",
    "\n",
    "```\n",
    "\n",
    "`column_start` and `column_end` = starting and ending points of column slice, slice includes both endpoints \n",
    "\n",
    "- the first value passed to `loc` is used to select rows, using a `:` as the row-selection parameter means \"select all the rows\"\n",
    "\n",
    "### Example"
   ]
  },
  {
   "cell_type": "code",
   "execution_count": null,
   "id": "f3258dea-e9ae-4987-bce9-04fbaf1d9e2c",
   "metadata": {
    "tags": []
   },
   "outputs": [],
   "source": [
    "# Select columns between CSM_winter and MUL_fall\n",
    "\n",
    "csm_mul = df.loc[ : , 'CSM_winter': 'MUL_fall']\n",
    "\n",
    "csm_mul"
   ]
  },
  {
   "cell_type": "markdown",
   "id": "5c593860-fec1-4e7b-888e-95cfd5e5038b",
   "metadata": {},
   "source": [
    "## Selecting rows ... \n",
    "\n",
    "### ... using a condition \n",
    "\n",
    "Syntax: \n",
    "\n",
    "```\n",
    "df[condition_on_rows]\n",
    "\n",
    "```\n",
    "\n",
    "That `condition_on_rows` can be many things. \n",
    "\n",
    "### Example\n",
    "\n",
    "We are interested in all data after 2020."
   ]
  },
  {
   "cell_type": "code",
   "execution_count": null,
   "id": "d0c2dda5-27cc-48e9-ae7c-be628d3abd4e",
   "metadata": {
    "tags": []
   },
   "outputs": [],
   "source": [
    "# Select all rows with year >2020\n",
    "\n",
    "post_2020 = df[df['year'] > 2020]\n",
    "\n",
    "post_2020"
   ]
  },
  {
   "cell_type": "markdown",
   "id": "c6f122b1-f2b5-4f99-b0a9-e1e93d5e7ab0",
   "metadata": {},
   "source": [
    "condition for our rows= `df['year']>2020` this is a `pandas.Series` with **boolean values** (True or False) indicates which rows satisfy the condition year >2020. "
   ]
  },
  {
   "cell_type": "code",
   "execution_count": null,
   "id": "d9b980e3-4112-4053-9023-fad4f9d2737c",
   "metadata": {
    "tags": []
   },
   "outputs": [],
   "source": [
    "# Check the type of df['year'] >2020\n",
    "\n",
    "print(type(df['year']> 2020))\n",
    "\n",
    "# Print the boolean series\n",
    "\n",
    "df['year'] > 2020"
   ]
  },
  {
   "cell_type": "markdown",
   "id": "20ab58a4-df05-47d6-af1e-3ea80e33d420",
   "metadata": {},
   "source": [
    "### Check-in\n",
    "\n",
    "Ge the subset of the data frame on which the San Dieguito Wetland has at least 75 species recorded in the spring. \n",
    "\n"
   ]
  },
  {
   "cell_type": "code",
   "execution_count": null,
   "id": "4cdcb57d-4ccb-426e-8e54-e34c874bfc0a",
   "metadata": {
    "tags": []
   },
   "outputs": [],
   "source": [
    "df.columns"
   ]
  },
  {
   "cell_type": "code",
   "execution_count": null,
   "id": "73afd398-a166-4a84-bbc9-368e48c235ab",
   "metadata": {
    "tags": []
   },
   "outputs": [],
   "source": [
    "sdw = df[ df['SDW_spring'] >= 75 ]\n",
    "\n",
    "sdw\n"
   ]
  },
  {
   "cell_type": "markdown",
   "id": "2e7133ef-9297-4202-9132-fbad3cf5a416",
   "metadata": {},
   "source": [
    "### Example \n",
    "\n",
    "Suppose we want to look at data from 2012 to 2015 (including both years). "
   ]
  },
  {
   "cell_type": "code",
   "execution_count": null,
   "id": "f8d980ca-a80d-4ce4-a9b9-d1432c2b7766",
   "metadata": {
    "tags": []
   },
   "outputs": [],
   "source": [
    "subset = df[df['year'].between(2012,2015)]\n",
    "\n",
    "subset"
   ]
  },
  {
   "cell_type": "markdown",
   "id": "0dad2cf9-934e-4e67-9595-a77f429107e5",
   "metadata": {},
   "source": [
    "- `df['year']` = column with year values, this is a pandas. Series\n",
    "\n",
    "- `df['year'].between()` we jave tjat `between()` method for the pandas.Series. Calling it using (2012,2015)= parameters. \n",
    "\n",
    "- wehen you put `df['year'].between(2012,2015)` in the selection brackets, we obtain the rows we need. \n",
    "\n",
    "## Avoid using `loc` for selecting only rows. \n",
    "\n",
    "It is equivalent to write\n",
    "\n",
    "```\n",
    "\n",
    "#Select rows with year <2015\n",
    "\n",
    "df[df['year']< 2025]\n",
    "\n",
    "```\n",
    "\n",
    "and \n",
    "\n",
    "```\n",
    "\n",
    "df.loc[df['year']< 2015 , : ]\n",
    "\n",
    "```\n",
    "\n",
    "In the second one:\n",
    "\n",
    "- using `df.loc[row-selection, column-selection]`\n",
    "- the row selection is the condition `df['year']<2015`\n",
    "- the column selection is `:` = all columns \n",
    "\n"
   ]
  },
  {
   "cell_type": "markdown",
   "id": "f0a29a3c-8813-4cbf-889d-5e5bb26d75ab",
   "metadata": {},
   "source": [
    "## Using multiple conditions\n",
    "\n",
    "We can combine conditiosn to select rows by surrounding each in parenthesis `()` and using the or `|` operator and the and `&` operator. \n",
    "\n",
    "### Example- or "
   ]
  },
  {
   "cell_type": "code",
   "execution_count": null,
   "id": "d9f970ec-3aec-4170-be2c-e3c2c8a3f9f6",
   "metadata": {
    "tags": []
   },
   "outputs": [],
   "source": [
    "# Select rows in CSM with more than 50 species in winter or fall\n",
    "\n",
    "df[ (df['CSM_winter'] >50)  | (df['CSM_fall'] >50) ]"
   ]
  },
  {
   "cell_type": "markdown",
   "id": "bb3d510f-0f34-41be-9f40-b45d04acaac3",
   "metadata": {},
   "source": [
    "Select rows in which CSM and SDW have more than 60 bird species during spring. "
   ]
  },
  {
   "cell_type": "code",
   "execution_count": 4,
   "id": "696a355d-c490-4647-bfad-5068dc475650",
   "metadata": {
    "tags": []
   },
   "outputs": [
    {
     "data": {
      "text/html": [
       "<div>\n",
       "<style scoped>\n",
       "    .dataframe tbody tr th:only-of-type {\n",
       "        vertical-align: middle;\n",
       "    }\n",
       "\n",
       "    .dataframe tbody tr th {\n",
       "        vertical-align: top;\n",
       "    }\n",
       "\n",
       "    .dataframe thead th {\n",
       "        text-align: right;\n",
       "    }\n",
       "</style>\n",
       "<table border=\"1\" class=\"dataframe\">\n",
       "  <thead>\n",
       "    <tr style=\"text-align: right;\">\n",
       "      <th></th>\n",
       "      <th>year</th>\n",
       "      <th>CSM_winter</th>\n",
       "      <th>CSM_spring</th>\n",
       "      <th>CSM_fall</th>\n",
       "      <th>MUL_winter</th>\n",
       "      <th>MUL_spring</th>\n",
       "      <th>MUL_fall</th>\n",
       "      <th>SDW_winter</th>\n",
       "      <th>SDW_spring</th>\n",
       "      <th>SDW_fall</th>\n",
       "      <th>TJE_winter</th>\n",
       "      <th>TJE_spring</th>\n",
       "      <th>TJE_fall</th>\n",
       "    </tr>\n",
       "  </thead>\n",
       "  <tbody>\n",
       "  </tbody>\n",
       "</table>\n",
       "</div>"
      ],
      "text/plain": [
       "Empty DataFrame\n",
       "Columns: [year, CSM_winter, CSM_spring, CSM_fall, MUL_winter, MUL_spring, MUL_fall, SDW_winter, SDW_spring, SDW_fall, TJE_winter, TJE_spring, TJE_fall]\n",
       "Index: []"
      ]
     },
     "execution_count": 4,
     "metadata": {},
     "output_type": "execute_result"
    }
   ],
   "source": [
    "df [ (df['CSM_spring'] > 60 ) & ( df['SDW_spring'] > 60 ) ]"
   ]
  },
  {
   "cell_type": "code",
   "execution_count": 5,
   "id": "3e28cc2a-d6e7-4526-9a21-11a07ea72088",
   "metadata": {
    "tags": []
   },
   "outputs": [],
   "source": [
    "cond1 = df['CSM_winter'] > 50 \n",
    "cond2 = df['CSM_fall'] > 50"
   ]
  },
  {
   "cell_type": "markdown",
   "id": "232cc15d-0400-48ce-8245-9d36f4bb4c1a",
   "metadata": {},
   "source": [
    "## Selecting rows by position\n",
    "\n",
    "Sometime we want to select rows based on ther *actual position* in the data frame. \n",
    "This is **position-based subsetting**. We use `iloc` selection. \n",
    "\n",
    "Syntax: \n",
    "\n",
    "```\n",
    "df.iloc[row-indices]\n",
    "\n",
    "```\n",
    "\n",
    "`iloc` = integer-location based indexing \n",
    "\n",
    "### Example "
   ]
  },
  {
   "cell_type": "code",
   "execution_count": 6,
   "id": "738d419c-a2e4-489e-bf7a-8e61252ea8af",
   "metadata": {
    "tags": []
   },
   "outputs": [
    {
     "data": {
      "text/plain": [
       "year          2014.0\n",
       "CSM_winter      38.0\n",
       "CSM_spring      43.0\n",
       "CSM_fall        45.0\n",
       "MUL_winter      49.0\n",
       "MUL_spring      52.0\n",
       "MUL_fall        57.0\n",
       "SDW_winter      61.0\n",
       "SDW_spring      78.0\n",
       "SDW_fall        71.0\n",
       "TJE_winter      60.0\n",
       "TJE_spring      81.0\n",
       "TJE_fall        62.0\n",
       "Name: 4, dtype: float64"
      ]
     },
     "execution_count": 6,
     "metadata": {},
     "output_type": "execute_result"
    }
   ],
   "source": [
    "# Select the fifth row (index = 4)\n",
    "\n",
    "df.iloc[4]"
   ]
  },
  {
   "cell_type": "code",
   "execution_count": 8,
   "id": "088bf1ac-0e36-4d75-8d85-7cfcfde0bff6",
   "metadata": {
    "tags": []
   },
   "outputs": [
    {
     "data": {
      "text/html": [
       "<div>\n",
       "<style scoped>\n",
       "    .dataframe tbody tr th:only-of-type {\n",
       "        vertical-align: middle;\n",
       "    }\n",
       "\n",
       "    .dataframe tbody tr th {\n",
       "        vertical-align: top;\n",
       "    }\n",
       "\n",
       "    .dataframe thead th {\n",
       "        text-align: right;\n",
       "    }\n",
       "</style>\n",
       "<table border=\"1\" class=\"dataframe\">\n",
       "  <thead>\n",
       "    <tr style=\"text-align: right;\">\n",
       "      <th></th>\n",
       "      <th>CSM_winter</th>\n",
       "      <th>CSM_spring</th>\n",
       "      <th>CSM_fall</th>\n",
       "      <th>MUL_winter</th>\n",
       "      <th>MUL_spring</th>\n",
       "      <th>MUL_fall</th>\n",
       "      <th>SDW_winter</th>\n",
       "      <th>SDW_spring</th>\n",
       "      <th>SDW_fall</th>\n",
       "      <th>TJE_winter</th>\n",
       "      <th>TJE_spring</th>\n",
       "      <th>TJE_fall</th>\n",
       "    </tr>\n",
       "    <tr>\n",
       "      <th>year</th>\n",
       "      <th></th>\n",
       "      <th></th>\n",
       "      <th></th>\n",
       "      <th></th>\n",
       "      <th></th>\n",
       "      <th></th>\n",
       "      <th></th>\n",
       "      <th></th>\n",
       "      <th></th>\n",
       "      <th></th>\n",
       "      <th></th>\n",
       "      <th></th>\n",
       "    </tr>\n",
       "  </thead>\n",
       "  <tbody>\n",
       "    <tr>\n",
       "      <th>2010</th>\n",
       "      <td>39.0</td>\n",
       "      <td>40.0</td>\n",
       "      <td>50.0</td>\n",
       "      <td>45.0</td>\n",
       "      <td>NaN</td>\n",
       "      <td>61.0</td>\n",
       "      <td>NaN</td>\n",
       "      <td>75.0</td>\n",
       "      <td>85.0</td>\n",
       "      <td>NaN</td>\n",
       "      <td>NaN</td>\n",
       "      <td>81.0</td>\n",
       "    </tr>\n",
       "    <tr>\n",
       "      <th>2011</th>\n",
       "      <td>48.0</td>\n",
       "      <td>44.0</td>\n",
       "      <td>NaN</td>\n",
       "      <td>58.0</td>\n",
       "      <td>52.0</td>\n",
       "      <td>NaN</td>\n",
       "      <td>78.0</td>\n",
       "      <td>74.0</td>\n",
       "      <td>NaN</td>\n",
       "      <td>67.0</td>\n",
       "      <td>70.0</td>\n",
       "      <td>NaN</td>\n",
       "    </tr>\n",
       "    <tr>\n",
       "      <th>2012</th>\n",
       "      <td>51.0</td>\n",
       "      <td>43.0</td>\n",
       "      <td>49.0</td>\n",
       "      <td>57.0</td>\n",
       "      <td>58.0</td>\n",
       "      <td>53.0</td>\n",
       "      <td>71.0</td>\n",
       "      <td>72.0</td>\n",
       "      <td>73.0</td>\n",
       "      <td>70.0</td>\n",
       "      <td>63.0</td>\n",
       "      <td>69.0</td>\n",
       "    </tr>\n",
       "  </tbody>\n",
       "</table>\n",
       "</div>"
      ],
      "text/plain": [
       "      CSM_winter  CSM_spring  CSM_fall  MUL_winter  MUL_spring  MUL_fall  \\\n",
       "year                                                                       \n",
       "2010        39.0        40.0      50.0        45.0         NaN      61.0   \n",
       "2011        48.0        44.0       NaN        58.0        52.0       NaN   \n",
       "2012        51.0        43.0      49.0        57.0        58.0      53.0   \n",
       "\n",
       "      SDW_winter  SDW_spring  SDW_fall  TJE_winter  TJE_spring  TJE_fall  \n",
       "year                                                                      \n",
       "2010         NaN        75.0      85.0         NaN         NaN      81.0  \n",
       "2011        78.0        74.0       NaN        67.0        70.0       NaN  \n",
       "2012        71.0        72.0      73.0        70.0        63.0      69.0  "
      ]
     },
     "execution_count": 8,
     "metadata": {},
     "output_type": "execute_result"
    }
   ],
   "source": [
    "df2 = df.set_index('year')\n",
    "\n",
    "df2.head(3)\n"
   ]
  },
  {
   "cell_type": "code",
   "execution_count": 9,
   "id": "b49c4836-a6cb-46cc-9cce-1911303127a2",
   "metadata": {
    "tags": []
   },
   "outputs": [
    {
     "data": {
      "text/plain": [
       "CSM_winter    38.0\n",
       "CSM_spring    43.0\n",
       "CSM_fall      45.0\n",
       "MUL_winter    49.0\n",
       "MUL_spring    52.0\n",
       "MUL_fall      57.0\n",
       "SDW_winter    61.0\n",
       "SDW_spring    78.0\n",
       "SDW_fall      71.0\n",
       "TJE_winter    60.0\n",
       "TJE_spring    81.0\n",
       "TJE_fall      62.0\n",
       "Name: 2014, dtype: float64"
      ]
     },
     "execution_count": 9,
     "metadata": {},
     "output_type": "execute_result"
    }
   ],
   "source": [
    "# Selecting the 5th row by index label / loc is indexing by LABELS\n",
    "\n",
    "df2.loc[2014]"
   ]
  },
  {
   "cell_type": "code",
   "execution_count": 10,
   "id": "fc584e25-9566-4360-b661-b268f46377c7",
   "metadata": {
    "tags": []
   },
   "outputs": [
    {
     "data": {
      "text/plain": [
       "CSM_winter    38.0\n",
       "CSM_spring    43.0\n",
       "CSM_fall      45.0\n",
       "MUL_winter    49.0\n",
       "MUL_spring    52.0\n",
       "MUL_fall      57.0\n",
       "SDW_winter    61.0\n",
       "SDW_spring    78.0\n",
       "SDW_fall      71.0\n",
       "TJE_winter    60.0\n",
       "TJE_spring    81.0\n",
       "TJE_fall      62.0\n",
       "Name: 2014, dtype: float64"
      ]
     },
     "execution_count": 10,
     "metadata": {},
     "output_type": "execute_result"
    }
   ],
   "source": [
    "df2.iloc[4]"
   ]
  },
  {
   "cell_type": "markdown",
   "id": "61ea96b8-220f-41aa-8122-b2057f10f8f0",
   "metadata": {},
   "source": [
    "## Selecting rows and columsn simultaneously\n",
    "\n",
    "Can be done use `loc` (labels) or `iloc` (positions)\n",
    "\n",
    "### by labels or conditions\n",
    "\n",
    "use `loc`\n",
    "\n",
    "Syntax:\n",
    "\n",
    "```\n",
    "df.loc[row-selection, column-selection]\n",
    "\n",
    "```\n",
    "\n",
    "\n",
    "### Example \n",
    "\n",
    "Select winter surveys for Mugu Lagoon and Tijuana Estuary after 2020. "
   ]
  },
  {
   "cell_type": "code",
   "execution_count": 11,
   "id": "b264b3a2-6c59-4d6f-8983-4e69abb4662b",
   "metadata": {
    "tags": []
   },
   "outputs": [
    {
     "data": {
      "text/html": [
       "<div>\n",
       "<style scoped>\n",
       "    .dataframe tbody tr th:only-of-type {\n",
       "        vertical-align: middle;\n",
       "    }\n",
       "\n",
       "    .dataframe tbody tr th {\n",
       "        vertical-align: top;\n",
       "    }\n",
       "\n",
       "    .dataframe thead th {\n",
       "        text-align: right;\n",
       "    }\n",
       "</style>\n",
       "<table border=\"1\" class=\"dataframe\">\n",
       "  <thead>\n",
       "    <tr style=\"text-align: right;\">\n",
       "      <th></th>\n",
       "      <th>MUL_winter</th>\n",
       "      <th>TJE_winter</th>\n",
       "    </tr>\n",
       "  </thead>\n",
       "  <tbody>\n",
       "    <tr>\n",
       "      <th>11</th>\n",
       "      <td>54.0</td>\n",
       "      <td>53.0</td>\n",
       "    </tr>\n",
       "    <tr>\n",
       "      <th>12</th>\n",
       "      <td>60.0</td>\n",
       "      <td>60.0</td>\n",
       "    </tr>\n",
       "    <tr>\n",
       "      <th>13</th>\n",
       "      <td>72.0</td>\n",
       "      <td>60.0</td>\n",
       "    </tr>\n",
       "  </tbody>\n",
       "</table>\n",
       "</div>"
      ],
      "text/plain": [
       "    MUL_winter  TJE_winter\n",
       "11        54.0        53.0\n",
       "12        60.0        60.0\n",
       "13        72.0        60.0"
      ]
     },
     "execution_count": 11,
     "metadata": {},
     "output_type": "execute_result"
    }
   ],
   "source": [
    "df.loc[df['year'] > 2020, ['MUL_winter', 'TJE_winter']]"
   ]
  },
  {
   "cell_type": "markdown",
   "id": "812d63d1-7d5a-4284-84c6-4081b0e23b6d",
   "metadata": {},
   "source": [
    "### by position \n",
    "\n",
    "use `iloc`\n",
    "\n",
    "Syntax:\n",
    "\n",
    "```\n",
    "df.iloc[ row-indices, column-indices]\n",
    "\n",
    "```\n",
    "\n",
    "### Example\n",
    "Suppose we want to select rows 3-7 (including 7) and fourth and fifth columns"
   ]
  },
  {
   "cell_type": "code",
   "execution_count": 12,
   "id": "42707e16-f7ff-4aea-953d-edb2c5a9ee52",
   "metadata": {
    "tags": []
   },
   "outputs": [
    {
     "data": {
      "text/html": [
       "<div>\n",
       "<style scoped>\n",
       "    .dataframe tbody tr th:only-of-type {\n",
       "        vertical-align: middle;\n",
       "    }\n",
       "\n",
       "    .dataframe tbody tr th {\n",
       "        vertical-align: top;\n",
       "    }\n",
       "\n",
       "    .dataframe thead th {\n",
       "        text-align: right;\n",
       "    }\n",
       "</style>\n",
       "<table border=\"1\" class=\"dataframe\">\n",
       "  <thead>\n",
       "    <tr style=\"text-align: right;\">\n",
       "      <th></th>\n",
       "      <th>CSM_fall</th>\n",
       "      <th>MUL_winter</th>\n",
       "    </tr>\n",
       "  </thead>\n",
       "  <tbody>\n",
       "    <tr>\n",
       "      <th>3</th>\n",
       "      <td>38.0</td>\n",
       "      <td>60.0</td>\n",
       "    </tr>\n",
       "    <tr>\n",
       "      <th>4</th>\n",
       "      <td>45.0</td>\n",
       "      <td>49.0</td>\n",
       "    </tr>\n",
       "    <tr>\n",
       "      <th>5</th>\n",
       "      <td>45.0</td>\n",
       "      <td>58.0</td>\n",
       "    </tr>\n",
       "    <tr>\n",
       "      <th>6</th>\n",
       "      <td>47.0</td>\n",
       "      <td>63.0</td>\n",
       "    </tr>\n",
       "    <tr>\n",
       "      <th>7</th>\n",
       "      <td>43.0</td>\n",
       "      <td>57.0</td>\n",
       "    </tr>\n",
       "  </tbody>\n",
       "</table>\n",
       "</div>"
      ],
      "text/plain": [
       "   CSM_fall  MUL_winter\n",
       "3      38.0        60.0\n",
       "4      45.0        49.0\n",
       "5      45.0        58.0\n",
       "6      47.0        63.0\n",
       "7      43.0        57.0"
      ]
     },
     "execution_count": 12,
     "metadata": {},
     "output_type": "execute_result"
    }
   ],
   "source": [
    "df.iloc[ 3:8, [3,4]]"
   ]
  },
  {
   "cell_type": "markdown",
   "id": "c2ebced2-549f-404f-be40-d9fb01b6fa4e",
   "metadata": {},
   "source": [
    "#### `iloc` column selection?\n",
    "\n",
    "#### example\n",
    "\n",
    "We want to access the 9th column in `df`. In this case, we already now this column is the San Dieguito Wetland during spring. \n",
    "\n",
    "*Why* wouldn't you want to use the `iloc` function?\n",
    "- you may update the column numbers\n",
    "- not as reproducable\n",
    "- you need to think harder about the index "
   ]
  },
  {
   "cell_type": "code",
   "execution_count": 13,
   "id": "fb40081e-1169-4cab-a55c-bbeaf1677b2e",
   "metadata": {
    "tags": []
   },
   "outputs": [
    {
     "data": {
      "text/plain": [
       "0     75.0\n",
       "1     74.0\n",
       "2     72.0\n",
       "3     70.0\n",
       "4     78.0\n",
       "5     61.0\n",
       "6     62.0\n",
       "7     45.0\n",
       "8     49.0\n",
       "9     55.0\n",
       "10     NaN\n",
       "11    58.0\n",
       "12    60.0\n",
       "13    63.0\n",
       "Name: SDW_spring, dtype: float64"
      ]
     },
     "execution_count": 13,
     "metadata": {},
     "output_type": "execute_result"
    }
   ],
   "source": [
    "df.iloc[:,8]"
   ]
  },
  {
   "cell_type": "code",
   "execution_count": null,
   "id": "f495fb79-87a6-42b2-be5b-f998da4935ec",
   "metadata": {},
   "outputs": [],
   "source": []
  }
 ],
 "metadata": {
  "kernelspec": {
   "display_name": "EDS220",
   "language": "python",
   "name": "eds220-env"
  },
  "language_info": {
   "codemirror_mode": {
    "name": "ipython",
    "version": 3
   },
   "file_extension": ".py",
   "mimetype": "text/x-python",
   "name": "python",
   "nbconvert_exporter": "python",
   "pygments_lexer": "ipython3",
   "version": "3.11.4"
  }
 },
 "nbformat": 4,
 "nbformat_minor": 5
}
