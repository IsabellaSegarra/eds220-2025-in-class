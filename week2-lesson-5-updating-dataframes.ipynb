{
 "cells": [
  {
   "cell_type": "markdown",
   "id": "234bd175-3001-4b00-ba6d-ea16f60a9879",
   "metadata": {},
   "source": [
    "# Updating data frames\n",
    "\n",
    "## Updating values in a dataframe \n",
    "\n",
    "Let's start by importing packages and data"
   ]
  },
  {
   "cell_type": "code",
   "execution_count": 2,
   "id": "fc52ccd3-8b9f-44a9-9d3e-35e1cb100885",
   "metadata": {
    "tags": []
   },
   "outputs": [],
   "source": [
    "import numpy as np\n",
    "import pandas as pd\n",
    "import random # used \n",
    "\n",
    "# Set the seed \n",
    "random.seed(42)\n",
    "\n",
    "# Import data\n",
    "URL = 'https://raw.githubusercontent.com/allisonhorst/palmerpenguins/main/inst/extdata/penguins.csv'\n",
    "penguins = pd.read_csv(URL)"
   ]
  },
  {
   "cell_type": "code",
   "execution_count": 4,
   "id": "9164085a-387c-4cf3-b291-99891064fd59",
   "metadata": {
    "tags": []
   },
   "outputs": [
    {
     "name": "stdout",
     "output_type": "stream",
     "text": [
      "True\n"
     ]
    }
   ],
   "source": [
    "# Add column body mass in kg \n",
    "\n",
    "penguins['body_mass_kg'] = penguins['body_mass_g']/1000\n",
    "\n",
    "# Confirm the new column is in the data frame\n",
    "\n",
    "print('body_mass_kg' in penguins.columns)"
   ]
  },
  {
   "cell_type": "code",
   "execution_count": 5,
   "id": "3cef042f-c387-40cb-9c56-a5d42b9b03f5",
   "metadata": {
    "tags": []
   },
   "outputs": [],
   "source": [
    "# Create random 3-digit codes \n",
    "\n",
    "codes = random.sample(range(100,1000), len(penguins))"
   ]
  },
  {
   "cell_type": "code",
   "execution_count": 6,
   "id": "2e9cc578-e9d8-4263-8933-4efe0e04a633",
   "metadata": {
    "tags": []
   },
   "outputs": [
    {
     "data": {
      "text/plain": [
       "344"
      ]
     },
     "execution_count": 6,
     "metadata": {},
     "output_type": "execute_result"
    }
   ],
   "source": [
    "# If there is code you do not understand, take it apart and run seperately\n",
    "\n",
    "len(penguins)"
   ]
  },
  {
   "cell_type": "code",
   "execution_count": null,
   "id": "f8c8abe9-ca39-4b48-b5b7-6151447f5723",
   "metadata": {},
   "outputs": [],
   "source": [
    "# Insert codes at the front of the data frame\n",
    "\n",
    "penguins.insert(loc = 0, # Index \n",
    "               column = 'id_code', \n",
    "               value = codes)"
   ]
  },
  {
   "cell_type": "markdown",
   "id": "85d3205f-2dcc-4c65-b026-65384a8c8bec",
   "metadata": {},
   "source": [
    "## A single value\n",
    "\n",
    "Access a single value in a `pandas.DataFrame` using locators\n",
    "\n",
    "- `at[]` to select by labels, or \n",
    "- `iat[]` to select by index position \n",
    "\n",
    "Syntax:\n",
    "\n",
    "```\n",
    "df.at[single_index_value, 'column_name'] \n",
    "\n",
    "```\n",
    "\n",
    "* `at[]` equivalent of `loc[]` when accessing a single value "
   ]
  },
  {
   "cell_type": "code",
   "execution_count": 15,
   "id": "573fe7f2-d4c5-459a-bf46-b06308d1a378",
   "metadata": {
    "tags": []
   },
   "outputs": [
    {
     "data": {
      "text/html": [
       "<div>\n",
       "<style scoped>\n",
       "    .dataframe tbody tr th:only-of-type {\n",
       "        vertical-align: middle;\n",
       "    }\n",
       "\n",
       "    .dataframe tbody tr th {\n",
       "        vertical-align: top;\n",
       "    }\n",
       "\n",
       "    .dataframe thead th {\n",
       "        text-align: right;\n",
       "    }\n",
       "</style>\n",
       "<table border=\"1\" class=\"dataframe\">\n",
       "  <thead>\n",
       "    <tr style=\"text-align: right;\">\n",
       "      <th></th>\n",
       "      <th>species</th>\n",
       "      <th>island</th>\n",
       "      <th>bill_length_mm</th>\n",
       "      <th>bill_depth_mm</th>\n",
       "      <th>flipper_length_mm</th>\n",
       "      <th>body_mass_g</th>\n",
       "      <th>sex</th>\n",
       "      <th>year</th>\n",
       "      <th>body_mass_kg</th>\n",
       "    </tr>\n",
       "    <tr>\n",
       "      <th>id_code</th>\n",
       "      <th></th>\n",
       "      <th></th>\n",
       "      <th></th>\n",
       "      <th></th>\n",
       "      <th></th>\n",
       "      <th></th>\n",
       "      <th></th>\n",
       "      <th></th>\n",
       "      <th></th>\n",
       "    </tr>\n",
       "  </thead>\n",
       "  <tbody>\n",
       "    <tr>\n",
       "      <th>754</th>\n",
       "      <td>Adelie</td>\n",
       "      <td>Torgersen</td>\n",
       "      <td>39.1</td>\n",
       "      <td>18.7</td>\n",
       "      <td>181.0</td>\n",
       "      <td>3750.0</td>\n",
       "      <td>male</td>\n",
       "      <td>2007</td>\n",
       "      <td>3.750</td>\n",
       "    </tr>\n",
       "    <tr>\n",
       "      <th>214</th>\n",
       "      <td>Adelie</td>\n",
       "      <td>Torgersen</td>\n",
       "      <td>39.5</td>\n",
       "      <td>17.4</td>\n",
       "      <td>186.0</td>\n",
       "      <td>3800.0</td>\n",
       "      <td>female</td>\n",
       "      <td>2007</td>\n",
       "      <td>3.800</td>\n",
       "    </tr>\n",
       "    <tr>\n",
       "      <th>125</th>\n",
       "      <td>Adelie</td>\n",
       "      <td>Torgersen</td>\n",
       "      <td>40.3</td>\n",
       "      <td>18.0</td>\n",
       "      <td>195.0</td>\n",
       "      <td>3250.0</td>\n",
       "      <td>female</td>\n",
       "      <td>2007</td>\n",
       "      <td>3.250</td>\n",
       "    </tr>\n",
       "    <tr>\n",
       "      <th>859</th>\n",
       "      <td>Adelie</td>\n",
       "      <td>Torgersen</td>\n",
       "      <td>NaN</td>\n",
       "      <td>NaN</td>\n",
       "      <td>NaN</td>\n",
       "      <td>NaN</td>\n",
       "      <td>NaN</td>\n",
       "      <td>2007</td>\n",
       "      <td>NaN</td>\n",
       "    </tr>\n",
       "    <tr>\n",
       "      <th>381</th>\n",
       "      <td>Adelie</td>\n",
       "      <td>Torgersen</td>\n",
       "      <td>36.7</td>\n",
       "      <td>19.3</td>\n",
       "      <td>193.0</td>\n",
       "      <td>3450.0</td>\n",
       "      <td>female</td>\n",
       "      <td>2007</td>\n",
       "      <td>3.450</td>\n",
       "    </tr>\n",
       "    <tr>\n",
       "      <th>...</th>\n",
       "      <td>...</td>\n",
       "      <td>...</td>\n",
       "      <td>...</td>\n",
       "      <td>...</td>\n",
       "      <td>...</td>\n",
       "      <td>...</td>\n",
       "      <td>...</td>\n",
       "      <td>...</td>\n",
       "      <td>...</td>\n",
       "    </tr>\n",
       "    <tr>\n",
       "      <th>140</th>\n",
       "      <td>Chinstrap</td>\n",
       "      <td>Dream</td>\n",
       "      <td>55.8</td>\n",
       "      <td>19.8</td>\n",
       "      <td>207.0</td>\n",
       "      <td>4000.0</td>\n",
       "      <td>male</td>\n",
       "      <td>2009</td>\n",
       "      <td>4.000</td>\n",
       "    </tr>\n",
       "    <tr>\n",
       "      <th>183</th>\n",
       "      <td>Chinstrap</td>\n",
       "      <td>Dream</td>\n",
       "      <td>43.5</td>\n",
       "      <td>18.1</td>\n",
       "      <td>202.0</td>\n",
       "      <td>3400.0</td>\n",
       "      <td>female</td>\n",
       "      <td>2009</td>\n",
       "      <td>3.400</td>\n",
       "    </tr>\n",
       "    <tr>\n",
       "      <th>969</th>\n",
       "      <td>Chinstrap</td>\n",
       "      <td>Dream</td>\n",
       "      <td>49.6</td>\n",
       "      <td>18.2</td>\n",
       "      <td>193.0</td>\n",
       "      <td>3775.0</td>\n",
       "      <td>male</td>\n",
       "      <td>2009</td>\n",
       "      <td>3.775</td>\n",
       "    </tr>\n",
       "    <tr>\n",
       "      <th>635</th>\n",
       "      <td>Chinstrap</td>\n",
       "      <td>Dream</td>\n",
       "      <td>50.8</td>\n",
       "      <td>19.0</td>\n",
       "      <td>210.0</td>\n",
       "      <td>4100.0</td>\n",
       "      <td>male</td>\n",
       "      <td>2009</td>\n",
       "      <td>4.100</td>\n",
       "    </tr>\n",
       "    <tr>\n",
       "      <th>883</th>\n",
       "      <td>Chinstrap</td>\n",
       "      <td>Dream</td>\n",
       "      <td>50.2</td>\n",
       "      <td>18.7</td>\n",
       "      <td>198.0</td>\n",
       "      <td>3775.0</td>\n",
       "      <td>female</td>\n",
       "      <td>2009</td>\n",
       "      <td>3.775</td>\n",
       "    </tr>\n",
       "  </tbody>\n",
       "</table>\n",
       "<p>344 rows × 9 columns</p>\n",
       "</div>"
      ],
      "text/plain": [
       "           species     island  bill_length_mm  bill_depth_mm  \\\n",
       "id_code                                                        \n",
       "754         Adelie  Torgersen            39.1           18.7   \n",
       "214         Adelie  Torgersen            39.5           17.4   \n",
       "125         Adelie  Torgersen            40.3           18.0   \n",
       "859         Adelie  Torgersen             NaN            NaN   \n",
       "381         Adelie  Torgersen            36.7           19.3   \n",
       "...            ...        ...             ...            ...   \n",
       "140      Chinstrap      Dream            55.8           19.8   \n",
       "183      Chinstrap      Dream            43.5           18.1   \n",
       "969      Chinstrap      Dream            49.6           18.2   \n",
       "635      Chinstrap      Dream            50.8           19.0   \n",
       "883      Chinstrap      Dream            50.2           18.7   \n",
       "\n",
       "         flipper_length_mm  body_mass_g     sex  year  body_mass_kg  \n",
       "id_code                                                              \n",
       "754                  181.0       3750.0    male  2007         3.750  \n",
       "214                  186.0       3800.0  female  2007         3.800  \n",
       "125                  195.0       3250.0  female  2007         3.250  \n",
       "859                    NaN          NaN     NaN  2007           NaN  \n",
       "381                  193.0       3450.0  female  2007         3.450  \n",
       "...                    ...          ...     ...   ...           ...  \n",
       "140                  207.0       4000.0    male  2009         4.000  \n",
       "183                  202.0       3400.0  female  2009         3.400  \n",
       "969                  193.0       3775.0    male  2009         3.775  \n",
       "635                  210.0       4100.0    male  2009         4.100  \n",
       "883                  198.0       3775.0  female  2009         3.775  \n",
       "\n",
       "[344 rows x 9 columns]"
      ]
     },
     "execution_count": 15,
     "metadata": {},
     "output_type": "execute_result"
    }
   ],
   "source": [
    "penguins = penguins.set_index('id_code') \n",
    "\n",
    "penguins"
   ]
  },
  {
   "cell_type": "markdown",
   "id": "3ea45646-3a7c-40ce-941d-6f85766d1878",
   "metadata": {},
   "source": [
    "What is the bill length with penguin ID 214?"
   ]
  },
  {
   "cell_type": "code",
   "execution_count": 18,
   "id": "509aa765-4f7e-4606-b2cb-de4b354b4692",
   "metadata": {
    "tags": []
   },
   "outputs": [
    {
     "data": {
      "text/plain": [
       "nan"
      ]
     },
     "execution_count": 18,
     "metadata": {},
     "output_type": "execute_result"
    }
   ],
   "source": [
    "# Check bill length of penguin with ID 859\n",
    "\n",
    "penguins.at[859, 'bill_length_mm']"
   ]
  },
  {
   "cell_type": "code",
   "execution_count": 19,
   "id": "f5900d1a-429e-4511-a45c-c13d982d4024",
   "metadata": {
    "tags": []
   },
   "outputs": [
    {
     "data": {
      "text/plain": [
       "species              Adelie\n",
       "island               Biscoe\n",
       "bill_length_mm         38.2\n",
       "bill_depth_mm          18.1\n",
       "flipper_length_mm     185.0\n",
       "body_mass_g          3950.0\n",
       "sex                    male\n",
       "year                   2007\n",
       "body_mass_kg           3.95\n",
       "Name: 127, dtype: object"
      ]
     },
     "execution_count": 19,
     "metadata": {},
     "output_type": "execute_result"
    }
   ],
   "source": [
    "# Correct bill length of penguin with ID 127\n",
    "\n",
    "penguins.at[859, 'bill_length_mm'] = 38.3 \n",
    "\n",
    "# Confirm value was updated (use `loc` to select a specific row)\n",
    "\n",
    "penguins.loc[127]"
   ]
  },
  {
   "cell_type": "markdown",
   "id": "f8b0d63d-ea36-4597-8b9a-b1f742123d83",
   "metadata": {},
   "source": [
    "If we want to access or update a single value by index position we use `iat[]` locator:\n",
    "\n",
    "syntax: \n",
    "\n",
    "```\n",
    "df.iat[index_integer_location, column_integer_location]\n",
    "\n",
    "```\n",
    "\n",
    "Dynamically get the location of a single column. \n",
    "\n",
    "```\n",
    "df.columns.get_loc('column_name')\n",
    "\n",
    "```"
   ]
  },
  {
   "cell_type": "markdown",
   "id": "4264947b-28c2-4b0f-821b-3daece19e01a",
   "metadata": {},
   "source": [
    "## Check-in \n",
    "\n",
    "1. Obtain the location of the `bill_length_mm` column programatically \n",
    "2. Use `iat[]` to access the bill length for the penguin with ID 127 (you may have a different ID) and revert it back to NA. Confirm changes. "
   ]
  },
  {
   "cell_type": "code",
   "execution_count": 20,
   "id": "89ae1ff9-5d89-473d-9a52-14679b45257e",
   "metadata": {
    "tags": []
   },
   "outputs": [
    {
     "data": {
      "text/html": [
       "<div>\n",
       "<style scoped>\n",
       "    .dataframe tbody tr th:only-of-type {\n",
       "        vertical-align: middle;\n",
       "    }\n",
       "\n",
       "    .dataframe tbody tr th {\n",
       "        vertical-align: top;\n",
       "    }\n",
       "\n",
       "    .dataframe thead th {\n",
       "        text-align: right;\n",
       "    }\n",
       "</style>\n",
       "<table border=\"1\" class=\"dataframe\">\n",
       "  <thead>\n",
       "    <tr style=\"text-align: right;\">\n",
       "      <th></th>\n",
       "      <th>species</th>\n",
       "      <th>island</th>\n",
       "      <th>bill_length_mm</th>\n",
       "      <th>bill_depth_mm</th>\n",
       "      <th>flipper_length_mm</th>\n",
       "      <th>body_mass_g</th>\n",
       "      <th>sex</th>\n",
       "      <th>year</th>\n",
       "      <th>body_mass_kg</th>\n",
       "    </tr>\n",
       "    <tr>\n",
       "      <th>id_code</th>\n",
       "      <th></th>\n",
       "      <th></th>\n",
       "      <th></th>\n",
       "      <th></th>\n",
       "      <th></th>\n",
       "      <th></th>\n",
       "      <th></th>\n",
       "      <th></th>\n",
       "      <th></th>\n",
       "    </tr>\n",
       "  </thead>\n",
       "  <tbody>\n",
       "    <tr>\n",
       "      <th>754</th>\n",
       "      <td>Adelie</td>\n",
       "      <td>Torgersen</td>\n",
       "      <td>39.1</td>\n",
       "      <td>18.7</td>\n",
       "      <td>181.0</td>\n",
       "      <td>3750.0</td>\n",
       "      <td>male</td>\n",
       "      <td>2007</td>\n",
       "      <td>3.75</td>\n",
       "    </tr>\n",
       "    <tr>\n",
       "      <th>214</th>\n",
       "      <td>Adelie</td>\n",
       "      <td>Torgersen</td>\n",
       "      <td>39.5</td>\n",
       "      <td>17.4</td>\n",
       "      <td>186.0</td>\n",
       "      <td>3800.0</td>\n",
       "      <td>female</td>\n",
       "      <td>2007</td>\n",
       "      <td>3.80</td>\n",
       "    </tr>\n",
       "  </tbody>\n",
       "</table>\n",
       "</div>"
      ],
      "text/plain": [
       "        species     island  bill_length_mm  bill_depth_mm  flipper_length_mm  \\\n",
       "id_code                                                                        \n",
       "754      Adelie  Torgersen            39.1           18.7              181.0   \n",
       "214      Adelie  Torgersen            39.5           17.4              186.0   \n",
       "\n",
       "         body_mass_g     sex  year  body_mass_kg  \n",
       "id_code                                           \n",
       "754           3750.0    male  2007          3.75  \n",
       "214           3800.0  female  2007          3.80  "
      ]
     },
     "execution_count": 20,
     "metadata": {},
     "output_type": "execute_result"
    }
   ],
   "source": [
    "penguins.head(2)"
   ]
  },
  {
   "cell_type": "code",
   "execution_count": 23,
   "id": "b6f07df3-37b6-4f70-a507-fc15ff71d1d5",
   "metadata": {
    "tags": []
   },
   "outputs": [],
   "source": [
    "# Set to NANA using iat\n",
    "\n",
    "bill_length_index = penguins.columns.get_loc('bill_length_mm') # Use get_loc to find location "
   ]
  },
  {
   "cell_type": "code",
   "execution_count": 29,
   "id": "b68eed62-ea3f-4521-a8fd-5d408d5ace9a",
   "metadata": {
    "tags": []
   },
   "outputs": [
    {
     "data": {
      "text/plain": [
       "species                 Adelie\n",
       "island               Torgersen\n",
       "bill_length_mm             NaN\n",
       "bill_depth_mm              NaN\n",
       "flipper_length_mm          NaN\n",
       "body_mass_g                NaN\n",
       "sex                        NaN\n",
       "year                      2007\n",
       "body_mass_kg               NaN\n",
       "Name: 859, dtype: object"
      ]
     },
     "execution_count": 29,
     "metadata": {},
     "output_type": "execute_result"
    }
   ],
   "source": [
    "penguins.iat[3, bill_length_index] = np.nan\n",
    "penguins.iloc[3] # View if work worked "
   ]
  },
  {
   "cell_type": "code",
   "execution_count": 27,
   "id": "b38569f9-1c24-4621-9305-26d3a6b7c0da",
   "metadata": {
    "tags": []
   },
   "outputs": [
    {
     "data": {
      "text/plain": [
       "float"
      ]
     },
     "execution_count": 27,
     "metadata": {},
     "output_type": "execute_result"
    }
   ],
   "source": [
    "type(np.nan)"
   ]
  },
  {
   "cell_type": "markdown",
   "id": "adc92ce4-c452-40d6-899b-fbb324212bc1",
   "metadata": {},
   "source": [
    "## Multiple values in a column \n",
    "\n",
    "### Using a condition\n",
    "\n",
    "Exmaple: \n",
    "We want to classify the Parlmer penguin such that:\n",
    "- penguins with body mass <3kg are small\n",
    "- penguins with 3 kg <= body mass < 5k are medium \n",
    "- penguins with5 kg < boyd mass ar elarge "
   ]
  },
  {
   "cell_type": "code",
   "execution_count": null,
   "id": "c4b8be2c-b635-4a1a-86bc-f73cde8930a9",
   "metadata": {},
   "outputs": [],
   "source": [
    "# Create a list with the conditions \n",
    "\n",
    "conditions = [penguins.bodymass_kg < 3], \n",
    "(3 <= pengions.body_mass_kg) & (pengions.bodymass_lg <5), \n",
    "5 <= penguins.body_mass_kg \n",
    "]\n",
    "\n",
    "# Create a list witht the choices \n",
    "\n",
    "choices = ['small',\n",
    "          'medium', \n",
    "          'large']\n",
    "\n",
    "\n",
    "# Add the selections using np.select\n",
    "\n",
    "penguins['size'] = np.select.conditions, choices, default = np.nan"
   ]
  },
  {
   "cell_type": "markdown",
   "id": "52c486d2-b399-4799-a153-4f3aa5ad1cec",
   "metadata": {},
   "source": [
    "## Update values by selecting them \n",
    "\n",
    "We can do this with `loc` or `iloc` and assigning new values\n",
    "\n",
    "\n",
    "Syntax:\n",
    "```\n",
    "df.loc[ row_selection, column_name] = new_values\n",
    "```\n",
    "\n",
    "Using `iloc[]` in assignment modifies the data frame directly wuthout the need for reassignment. \n",
    "\n",
    "### Example \n",
    "\n",
    "Update the 'mae' values in the sex column to 'M'. "
   ]
  },
  {
   "cell_type": "code",
   "execution_count": 30,
   "id": "6475e394-7ee9-4170-9e07-76d39bcc384d",
   "metadata": {
    "tags": []
   },
   "outputs": [],
   "source": [
    "# Select rows with sex = male ad simplify values in 'sex' column \n",
    "\n",
    "penguins.loc[penguins.sex == 'male', 'sex'] = 'M'"
   ]
  },
  {
   "cell_type": "code",
   "execution_count": 31,
   "id": "88e6ee33-e2ef-4a77-889b-bb1f4450fc21",
   "metadata": {
    "tags": []
   },
   "outputs": [
    {
     "name": "stdout",
     "output_type": "stream",
     "text": [
      "['M' 'female' nan]\n"
     ]
    }
   ],
   "source": [
    "# Check  change sin 'sex' column\n",
    "\n",
    "print(penguins.sex.unique())"
   ]
  },
  {
   "cell_type": "markdown",
   "id": "cdf15768-e326-465c-8777-fea5cbaa6c9c",
   "metadata": {},
   "source": [
    "### Best practicies\n",
    "\n",
    "We want to updat ethe 'female' values in the 'sex' column to 'F'\n"
   ]
  },
  {
   "cell_type": "code",
   "execution_count": 32,
   "id": "629151cb-1afd-4067-b69b-ba7f02ad736c",
   "metadata": {
    "tags": []
   },
   "outputs": [
    {
     "name": "stderr",
     "output_type": "stream",
     "text": [
      "/tmp/ipykernel_1046307/14575586.py:3: SettingWithCopyWarning: \n",
      "A value is trying to be set on a copy of a slice from a DataFrame.\n",
      "Try using .loc[row_indexer,col_indexer] = value instead\n",
      "\n",
      "See the caveats in the documentation: https://pandas.pydata.org/pandas-docs/stable/user_guide/indexing.html#returning-a-view-versus-a-copy\n",
      "  penguins[penguins.sex == 'female']['sex'] = 'F' # Raises SettingWithCopyWarning\n"
     ]
    }
   ],
   "source": [
    "# Select rows where 'sex' is female and attempt to update to values\n",
    "\n",
    "penguins[penguins.sex == 'female']['sex'] = 'F' # Raises SettingWithCopyWarning"
   ]
  },
  {
   "cell_type": "markdown",
   "id": "6429e976-b0d8-4b97-bee2-2d9379298ccc",
   "metadata": {},
   "source": [
    "**Avoice chained indexing** `[][]` and use `.loc[]` instead. \n",
    "\n",
    "This warning happens generally when we have chained indexing:\n",
    "\n",
    "```\n",
    "df[row_selection][colum_selection] = new_value\n",
    "\n",
    "```\n",
    "\n",
    "## Check-in \n",
    "Update the 'female' values w/o the warning and check. "
   ]
  },
  {
   "cell_type": "code",
   "execution_count": 33,
   "id": "b65dd884-5c55-4037-91b1-78bf23806f9a",
   "metadata": {
    "tags": []
   },
   "outputs": [
    {
     "data": {
      "text/plain": [
       "array(['M', 'F', nan], dtype=object)"
      ]
     },
     "execution_count": 33,
     "metadata": {},
     "output_type": "execute_result"
    }
   ],
   "source": [
    "penguins.loc[penguins.sex == 'female', 'sex'] = 'F'\n",
    "\n",
    "penguins.sex.unique()"
   ]
  },
  {
   "cell_type": "markdown",
   "id": "cb4c747a-e98c-469e-b31c-05837381a6da",
   "metadata": {},
   "source": [
    "This warning comes up because some `pandas` operations reutnr a view and others return a copy of your data.\n",
    "\n",
    "- **Views**: actual subsets of the original data, when we update them, we are modifying the original data frame. \n",
    "- **Copies**: unique objects, independent of our original data frame.s When we updat ea copy we are not modifying the original data. "
   ]
  },
  {
   "cell_type": "markdown",
   "id": "f8968e72-2b4e-42bd-a0f9-f7d8e6ecf69b",
   "metadata": {},
   "source": [
    "## Example\n",
    "\n",
    "We only want to use data from Biscoe island, after doing some analysis, we want to add a new column. \n"
   ]
  },
  {
   "cell_type": "code",
   "execution_count": 34,
   "id": "2d0b7409-2b0d-4947-8db5-f2d80a826ae6",
   "metadata": {
    "tags": []
   },
   "outputs": [
    {
     "data": {
      "text/html": [
       "<div>\n",
       "<style scoped>\n",
       "    .dataframe tbody tr th:only-of-type {\n",
       "        vertical-align: middle;\n",
       "    }\n",
       "\n",
       "    .dataframe tbody tr th {\n",
       "        vertical-align: top;\n",
       "    }\n",
       "\n",
       "    .dataframe thead th {\n",
       "        text-align: right;\n",
       "    }\n",
       "</style>\n",
       "<table border=\"1\" class=\"dataframe\">\n",
       "  <thead>\n",
       "    <tr style=\"text-align: right;\">\n",
       "      <th></th>\n",
       "      <th>species</th>\n",
       "      <th>island</th>\n",
       "      <th>bill_length_mm</th>\n",
       "      <th>bill_depth_mm</th>\n",
       "      <th>flipper_length_mm</th>\n",
       "      <th>body_mass_g</th>\n",
       "      <th>sex</th>\n",
       "      <th>year</th>\n",
       "      <th>body_mass_kg</th>\n",
       "    </tr>\n",
       "    <tr>\n",
       "      <th>id_code</th>\n",
       "      <th></th>\n",
       "      <th></th>\n",
       "      <th></th>\n",
       "      <th></th>\n",
       "      <th></th>\n",
       "      <th></th>\n",
       "      <th></th>\n",
       "      <th></th>\n",
       "      <th></th>\n",
       "    </tr>\n",
       "  </thead>\n",
       "  <tbody>\n",
       "    <tr>\n",
       "      <th>338</th>\n",
       "      <td>Adelie</td>\n",
       "      <td>Biscoe</td>\n",
       "      <td>37.8</td>\n",
       "      <td>18.3</td>\n",
       "      <td>174.0</td>\n",
       "      <td>3400.0</td>\n",
       "      <td>F</td>\n",
       "      <td>2007</td>\n",
       "      <td>3.40</td>\n",
       "    </tr>\n",
       "    <tr>\n",
       "      <th>617</th>\n",
       "      <td>Adelie</td>\n",
       "      <td>Biscoe</td>\n",
       "      <td>37.7</td>\n",
       "      <td>18.7</td>\n",
       "      <td>180.0</td>\n",
       "      <td>3600.0</td>\n",
       "      <td>M</td>\n",
       "      <td>2007</td>\n",
       "      <td>3.60</td>\n",
       "    </tr>\n",
       "    <tr>\n",
       "      <th>716</th>\n",
       "      <td>Adelie</td>\n",
       "      <td>Biscoe</td>\n",
       "      <td>35.9</td>\n",
       "      <td>19.2</td>\n",
       "      <td>189.0</td>\n",
       "      <td>3800.0</td>\n",
       "      <td>F</td>\n",
       "      <td>2007</td>\n",
       "      <td>3.80</td>\n",
       "    </tr>\n",
       "    <tr>\n",
       "      <th>127</th>\n",
       "      <td>Adelie</td>\n",
       "      <td>Biscoe</td>\n",
       "      <td>38.2</td>\n",
       "      <td>18.1</td>\n",
       "      <td>185.0</td>\n",
       "      <td>3950.0</td>\n",
       "      <td>M</td>\n",
       "      <td>2007</td>\n",
       "      <td>3.95</td>\n",
       "    </tr>\n",
       "    <tr>\n",
       "      <th>674</th>\n",
       "      <td>Adelie</td>\n",
       "      <td>Biscoe</td>\n",
       "      <td>38.8</td>\n",
       "      <td>17.2</td>\n",
       "      <td>180.0</td>\n",
       "      <td>3800.0</td>\n",
       "      <td>M</td>\n",
       "      <td>2007</td>\n",
       "      <td>3.80</td>\n",
       "    </tr>\n",
       "    <tr>\n",
       "      <th>...</th>\n",
       "      <td>...</td>\n",
       "      <td>...</td>\n",
       "      <td>...</td>\n",
       "      <td>...</td>\n",
       "      <td>...</td>\n",
       "      <td>...</td>\n",
       "      <td>...</td>\n",
       "      <td>...</td>\n",
       "      <td>...</td>\n",
       "    </tr>\n",
       "    <tr>\n",
       "      <th>578</th>\n",
       "      <td>Gentoo</td>\n",
       "      <td>Biscoe</td>\n",
       "      <td>NaN</td>\n",
       "      <td>NaN</td>\n",
       "      <td>NaN</td>\n",
       "      <td>NaN</td>\n",
       "      <td>NaN</td>\n",
       "      <td>2009</td>\n",
       "      <td>NaN</td>\n",
       "    </tr>\n",
       "    <tr>\n",
       "      <th>155</th>\n",
       "      <td>Gentoo</td>\n",
       "      <td>Biscoe</td>\n",
       "      <td>46.8</td>\n",
       "      <td>14.3</td>\n",
       "      <td>215.0</td>\n",
       "      <td>4850.0</td>\n",
       "      <td>F</td>\n",
       "      <td>2009</td>\n",
       "      <td>4.85</td>\n",
       "    </tr>\n",
       "    <tr>\n",
       "      <th>200</th>\n",
       "      <td>Gentoo</td>\n",
       "      <td>Biscoe</td>\n",
       "      <td>50.4</td>\n",
       "      <td>15.7</td>\n",
       "      <td>222.0</td>\n",
       "      <td>5750.0</td>\n",
       "      <td>M</td>\n",
       "      <td>2009</td>\n",
       "      <td>5.75</td>\n",
       "    </tr>\n",
       "    <tr>\n",
       "      <th>162</th>\n",
       "      <td>Gentoo</td>\n",
       "      <td>Biscoe</td>\n",
       "      <td>45.2</td>\n",
       "      <td>14.8</td>\n",
       "      <td>212.0</td>\n",
       "      <td>5200.0</td>\n",
       "      <td>F</td>\n",
       "      <td>2009</td>\n",
       "      <td>5.20</td>\n",
       "    </tr>\n",
       "    <tr>\n",
       "      <th>512</th>\n",
       "      <td>Gentoo</td>\n",
       "      <td>Biscoe</td>\n",
       "      <td>49.9</td>\n",
       "      <td>16.1</td>\n",
       "      <td>213.0</td>\n",
       "      <td>5400.0</td>\n",
       "      <td>M</td>\n",
       "      <td>2009</td>\n",
       "      <td>5.40</td>\n",
       "    </tr>\n",
       "  </tbody>\n",
       "</table>\n",
       "<p>168 rows × 9 columns</p>\n",
       "</div>"
      ],
      "text/plain": [
       "        species  island  bill_length_mm  bill_depth_mm  flipper_length_mm  \\\n",
       "id_code                                                                     \n",
       "338      Adelie  Biscoe            37.8           18.3              174.0   \n",
       "617      Adelie  Biscoe            37.7           18.7              180.0   \n",
       "716      Adelie  Biscoe            35.9           19.2              189.0   \n",
       "127      Adelie  Biscoe            38.2           18.1              185.0   \n",
       "674      Adelie  Biscoe            38.8           17.2              180.0   \n",
       "...         ...     ...             ...            ...                ...   \n",
       "578      Gentoo  Biscoe             NaN            NaN                NaN   \n",
       "155      Gentoo  Biscoe            46.8           14.3              215.0   \n",
       "200      Gentoo  Biscoe            50.4           15.7              222.0   \n",
       "162      Gentoo  Biscoe            45.2           14.8              212.0   \n",
       "512      Gentoo  Biscoe            49.9           16.1              213.0   \n",
       "\n",
       "         body_mass_g  sex  year  body_mass_kg  \n",
       "id_code                                        \n",
       "338           3400.0    F  2007          3.40  \n",
       "617           3600.0    M  2007          3.60  \n",
       "716           3800.0    F  2007          3.80  \n",
       "127           3950.0    M  2007          3.95  \n",
       "674           3800.0    M  2007          3.80  \n",
       "...              ...  ...   ...           ...  \n",
       "578              NaN  NaN  2009           NaN  \n",
       "155           4850.0    F  2009          4.85  \n",
       "200           5750.0    M  2009          5.75  \n",
       "162           5200.0    F  2009          5.20  \n",
       "512           5400.0    M  2009          5.40  \n",
       "\n",
       "[168 rows x 9 columns]"
      ]
     },
     "execution_count": 34,
     "metadata": {},
     "output_type": "execute_result"
    }
   ],
   "source": [
    "biscoe2 = penguins[penguins['island'] == 'Biscoe']\n",
    "biscoe2"
   ]
  },
  {
   "cell_type": "code",
   "execution_count": 37,
   "id": "650669f0-7613-43b8-b7c3-f8d7add29b9f",
   "metadata": {
    "tags": []
   },
   "outputs": [
    {
     "name": "stderr",
     "output_type": "stream",
     "text": [
      "/tmp/ipykernel_1046307/3334027211.py:8: SettingWithCopyWarning: \n",
      "A value is trying to be set on a copy of a slice from a DataFrame.\n",
      "Try using .loc[row_indexer,col_indexer] = value instead\n",
      "\n",
      "See the caveats in the documentation: https://pandas.pydata.org/pandas-docs/stable/user_guide/indexing.html#returning-a-view-versus-a-copy\n",
      "  biscoe['sample_column'] = 100\n"
     ]
    }
   ],
   "source": [
    "# Select penguins from Biscoe island\n",
    "\n",
    "biscoe = penguins[penguins.island == 'Biscoe']\n",
    "biscoe\n",
    "\n",
    "# Add a column \n",
    "\n",
    "biscoe['sample_column'] = 100 "
   ]
  },
  {
   "cell_type": "markdown",
   "id": "222c9baf-ba24-43b7-83e9-ce6997c4dfbd",
   "metadata": {},
   "source": [
    "We can also explicitely ask for a copy of a dataset when subsetting using the `copy()` method. "
   ]
  },
  {
   "cell_type": "code",
   "execution_count": 39,
   "id": "f623a9d3-355f-4941-940b-a4a0ea3c26cb",
   "metadata": {
    "tags": []
   },
   "outputs": [
    {
     "data": {
      "text/plain": [
       "False"
      ]
     },
     "execution_count": 39,
     "metadata": {},
     "output_type": "execute_result"
    }
   ],
   "source": [
    "'sample_column' in penguins.columns"
   ]
  }
 ],
 "metadata": {
  "kernelspec": {
   "display_name": "EDS220",
   "language": "python",
   "name": "eds220-env"
  },
  "language_info": {
   "codemirror_mode": {
    "name": "ipython",
    "version": 3
   },
   "file_extension": ".py",
   "mimetype": "text/x-python",
   "name": "python",
   "nbconvert_exporter": "python",
   "pygments_lexer": "ipython3",
   "version": "3.11.4"
  }
 },
 "nbformat": 4,
 "nbformat_minor": 5
}
