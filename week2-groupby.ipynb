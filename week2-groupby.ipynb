{
 "cells": [
  {
   "cell_type": "markdown",
   "id": "bc666fe0-65f4-4043-abf3-b577f7a81786",
   "metadata": {},
   "source": [
    "#  Grouping\n",
    "\n",
    "By the end of this lesson students will be able to:\n",
    "\n",
    "- Understand and apply the Split-Apply-Combine strategy to analyze grouped data.\n",
    "- Use groupby() to split a pandas.DataFrame by one or more columns.\n",
    "- Calculate summary statistics for groups in a pandas.DataFrame.\n",
    "- Use method chaining for efficient data analysis."
   ]
  },
  {
   "cell_type": "code",
   "execution_count": 1,
   "id": "3d46a036-6abc-4445-823b-0553ff8c0952",
   "metadata": {
    "tags": []
   },
   "outputs": [
    {
     "data": {
      "text/html": [
       "<div>\n",
       "<style scoped>\n",
       "    .dataframe tbody tr th:only-of-type {\n",
       "        vertical-align: middle;\n",
       "    }\n",
       "\n",
       "    .dataframe tbody tr th {\n",
       "        vertical-align: top;\n",
       "    }\n",
       "\n",
       "    .dataframe thead th {\n",
       "        text-align: right;\n",
       "    }\n",
       "</style>\n",
       "<table border=\"1\" class=\"dataframe\">\n",
       "  <thead>\n",
       "    <tr style=\"text-align: right;\">\n",
       "      <th></th>\n",
       "      <th>species</th>\n",
       "      <th>island</th>\n",
       "      <th>bill_length_mm</th>\n",
       "      <th>bill_depth_mm</th>\n",
       "      <th>flipper_length_mm</th>\n",
       "      <th>body_mass_g</th>\n",
       "      <th>sex</th>\n",
       "      <th>year</th>\n",
       "    </tr>\n",
       "  </thead>\n",
       "  <tbody>\n",
       "    <tr>\n",
       "      <th>0</th>\n",
       "      <td>Adelie</td>\n",
       "      <td>Torgersen</td>\n",
       "      <td>39.1</td>\n",
       "      <td>18.7</td>\n",
       "      <td>181.0</td>\n",
       "      <td>3750.0</td>\n",
       "      <td>male</td>\n",
       "      <td>2007</td>\n",
       "    </tr>\n",
       "    <tr>\n",
       "      <th>1</th>\n",
       "      <td>Adelie</td>\n",
       "      <td>Torgersen</td>\n",
       "      <td>39.5</td>\n",
       "      <td>17.4</td>\n",
       "      <td>186.0</td>\n",
       "      <td>3800.0</td>\n",
       "      <td>female</td>\n",
       "      <td>2007</td>\n",
       "    </tr>\n",
       "    <tr>\n",
       "      <th>2</th>\n",
       "      <td>Adelie</td>\n",
       "      <td>Torgersen</td>\n",
       "      <td>40.3</td>\n",
       "      <td>18.0</td>\n",
       "      <td>195.0</td>\n",
       "      <td>3250.0</td>\n",
       "      <td>female</td>\n",
       "      <td>2007</td>\n",
       "    </tr>\n",
       "    <tr>\n",
       "      <th>3</th>\n",
       "      <td>Adelie</td>\n",
       "      <td>Torgersen</td>\n",
       "      <td>NaN</td>\n",
       "      <td>NaN</td>\n",
       "      <td>NaN</td>\n",
       "      <td>NaN</td>\n",
       "      <td>NaN</td>\n",
       "      <td>2007</td>\n",
       "    </tr>\n",
       "    <tr>\n",
       "      <th>4</th>\n",
       "      <td>Adelie</td>\n",
       "      <td>Torgersen</td>\n",
       "      <td>36.7</td>\n",
       "      <td>19.3</td>\n",
       "      <td>193.0</td>\n",
       "      <td>3450.0</td>\n",
       "      <td>female</td>\n",
       "      <td>2007</td>\n",
       "    </tr>\n",
       "  </tbody>\n",
       "</table>\n",
       "</div>"
      ],
      "text/plain": [
       "  species     island  bill_length_mm  bill_depth_mm  flipper_length_mm  \\\n",
       "0  Adelie  Torgersen            39.1           18.7              181.0   \n",
       "1  Adelie  Torgersen            39.5           17.4              186.0   \n",
       "2  Adelie  Torgersen            40.3           18.0              195.0   \n",
       "3  Adelie  Torgersen             NaN            NaN                NaN   \n",
       "4  Adelie  Torgersen            36.7           19.3              193.0   \n",
       "\n",
       "   body_mass_g     sex  year  \n",
       "0       3750.0    male  2007  \n",
       "1       3800.0  female  2007  \n",
       "2       3250.0  female  2007  \n",
       "3          NaN     NaN  2007  \n",
       "4       3450.0  female  2007  "
      ]
     },
     "execution_count": 1,
     "metadata": {},
     "output_type": "execute_result"
    }
   ],
   "source": [
    "import numpy as np\n",
    "import pandas as pd\n",
    "\n",
    "# Load Palmer penguins data\n",
    "URL = 'https://raw.githubusercontent.com/allisonhorst/palmerpenguins/main/inst/extdata/penguins.csv'\n",
    "penguins = pd.read_csv(URL)\n",
    "\n",
    "penguins.head()"
   ]
  },
  {
   "cell_type": "markdown",
   "id": "407ee7ea-7247-4bc3-af57-b5de5413a267",
   "metadata": {},
   "source": [
    "## Summary statistics\n",
    "\n",
    "- sum(): sum values in each column,\n",
    "- count(): count non-NA values in each column,\n",
    "- min() and max(): get the minimum and maximum value in each column,\n",
    "- mean() and median(): get the mean and median value in each column,\n",
    "- std() and var(): get the standard deviation and variance in each column."
   ]
  },
  {
   "cell_type": "code",
   "execution_count": 2,
   "id": "d43d0386-9f70-4a88-a6e6-17775f3058d8",
   "metadata": {
    "tags": []
   },
   "outputs": [
    {
     "data": {
      "text/plain": [
       "species              344\n",
       "island               344\n",
       "bill_length_mm       342\n",
       "bill_depth_mm        342\n",
       "flipper_length_mm    342\n",
       "body_mass_g          342\n",
       "sex                  333\n",
       "year                 344\n",
       "dtype: int64"
      ]
     },
     "execution_count": 2,
     "metadata": {},
     "output_type": "execute_result"
    }
   ],
   "source": [
    "# Get the number of non-NA values in each column \n",
    "penguins.count()"
   ]
  },
  {
   "cell_type": "code",
   "execution_count": 3,
   "id": "1abde2ab-e588-416f-99fd-96ef7310c505",
   "metadata": {
    "tags": []
   },
   "outputs": [
    {
     "data": {
      "text/plain": [
       "bill_length_mm         32.1\n",
       "bill_depth_mm          13.1\n",
       "flipper_length_mm     172.0\n",
       "body_mass_g          2700.0\n",
       "year                 2007.0\n",
       "dtype: float64"
      ]
     },
     "execution_count": 3,
     "metadata": {},
     "output_type": "execute_result"
    }
   ],
   "source": [
    "# Get minimum value in each column with numerical values\n",
    "penguins.select_dtypes('number').min()"
   ]
  },
  {
   "cell_type": "markdown",
   "id": "6070f861-de3f-41df-b8b5-b08a1b0178c8",
   "metadata": {},
   "source": [
    "## Grouping\n",
    "\n",
    "**The Split-Apply-Combine method** \n",
    "\n",
    "Split: Split the data into logical groups (e.g. species, sex, island, etc.)\n",
    "\n",
    "Apply: Calculate some summary statistic on each group (e.g. average flipper length by species, number of individuals per island, body mass by sex, etc.)\n",
    "\n",
    "Combine: Combine the statistic calculated on each group back together."
   ]
  },
  {
   "cell_type": "markdown",
   "id": "127844fa-a507-4b08-a12a-65ec110bb07a",
   "metadata": {},
   "source": [
    "For a pandas.DataFrame or pandas.Series, we can use the `groupby()` method to split (i.e. group) the data into different categories. Syntax:"
   ]
  },
  {
   "cell_type": "code",
   "execution_count": 4,
   "id": "15f07199-be17-4262-8805-fbc72dd12c03",
   "metadata": {},
   "outputs": [
    {
     "ename": "NameError",
     "evalue": "name 'df' is not defined",
     "output_type": "error",
     "traceback": [
      "\u001b[0;31m---------------------------------------------------------------------------\u001b[0m",
      "\u001b[0;31mNameError\u001b[0m                                 Traceback (most recent call last)",
      "Cell \u001b[0;32mIn[4], line 1\u001b[0m\n\u001b[0;32m----> 1\u001b[0m \u001b[43mdf\u001b[49m\u001b[38;5;241m.\u001b[39mgroupby(columns_to_group_by)\u001b[38;5;241m.\u001b[39msummary_method()\n",
      "\u001b[0;31mNameError\u001b[0m: name 'df' is not defined"
     ]
    }
   ],
   "source": [
    "df.groupby(columns_to_group_by).summary_method()"
   ]
  },
  {
   "cell_type": "markdown",
   "id": "fbb93a81-6a1d-4136-a1f7-778f69949457",
   "metadata": {},
   "source": [
    "**Example**\n",
    "\n",
    "If we don’t use `groupby()` and directly apply the `mean()` method to our flipper length column, we obtain the average of all the values in the column:\n",
    "\n"
   ]
  },
  {
   "cell_type": "code",
   "execution_count": null,
   "id": "d7c43ed8-f7a2-4880-ab88-0570777181c7",
   "metadata": {
    "tags": []
   },
   "outputs": [],
   "source": [
    "penguins['flipper_length_mm'].mean()"
   ]
  },
  {
   "cell_type": "markdown",
   "id": "88a23723-a59f-4926-8457-b21a0abedbe8",
   "metadata": {},
   "source": [
    "To get the mean flipper length by species we first group our dataset by the species column’s values. However, if we just use the groupby() method without specifying what we wish to calculate on each group, not much happens up front:"
   ]
  },
  {
   "cell_type": "code",
   "execution_count": null,
   "id": "f9615a81-c616-4cf2-a9d8-e3fa2a14ace6",
   "metadata": {
    "tags": []
   },
   "outputs": [],
   "source": [
    "penguins.groupby('species')['flipper_length_mm']"
   ]
  },
  {
   "cell_type": "code",
   "execution_count": null,
   "id": "410b52c0-1635-42e1-8c56-7398cefdd2c1",
   "metadata": {
    "tags": []
   },
   "outputs": [],
   "source": [
    "# Average flipper length per species\n",
    "penguins.groupby('species')['flipper_length_mm'].mean()"
   ]
  },
  {
   "cell_type": "markdown",
   "id": "a00726e6-fd58-4207-bb1c-2c5980515772",
   "metadata": {},
   "source": [
    "- start with the penguins data frame, and then…\n",
    "- use groupby() to group the data frame by species values, and then…\n",
    "- select the 'flipper_length_mm' column, and then…\n",
    "- calculate the mean() of this column with respect to the groups.\n"
   ]
  },
  {
   "cell_type": "code",
   "execution_count": null,
   "id": "49e75bf0-3e7d-4fd3-9131-86d89b75565e",
   "metadata": {
    "tags": []
   },
   "outputs": [],
   "source": [
    "# Average flipper length per species w/ METHOD CHAINING \n",
    "\n",
    "avg_flipper = (penguins.groupby(\"species\")\n",
    "                        .flipper_length_mm\n",
    "                        .mean()\n",
    "                        .rename('mean_flipper_length')\n",
    "                        .sort_values(ascending=False)\n",
    "                        )\n",
    "avg_flipper"
   ]
  },
  {
   "cell_type": "code",
   "execution_count": null,
   "id": "3ecb8270-16e2-4560-a45c-492b5c260a31",
   "metadata": {
    "tags": []
   },
   "outputs": [],
   "source": [
    "#When we group by island and year we get the count of non-NA values for each column across each combination of island and year:\n",
    "\n",
    "penguins.groupby(['island','year']).count()\n"
   ]
  },
  {
   "cell_type": "markdown",
   "id": "e77c6c78-fbab-4e0e-b9cb-32a264c7bd52",
   "metadata": {},
   "source": [
    "Let’s say we want to plot the surveyed population per year and island. We could then use method chaining to do this:"
   ]
  },
  {
   "cell_type": "code",
   "execution_count": null,
   "id": "c9eba9f8-9d36-42e4-a2a3-4bd5dd03212c",
   "metadata": {
    "tags": []
   },
   "outputs": [],
   "source": [
    "(penguins.groupby(['island','year'])\n",
    "         .count()\n",
    "         .species\n",
    "         .sort_values()\n",
    "         .plot(kind='barh', #Barh gives a horizontal bar plot\n",
    "                title='Penguins surveyed at the Palmer Archipelago',\n",
    "                ylabel=('Island, Year'))\n",
    "         )"
   ]
  },
  {
   "cell_type": "markdown",
   "id": "f7617836-b349-4c6b-b471-ecb74aa1ec79",
   "metadata": {},
   "source": [
    "# Check-in\n",
    "\n",
    "1. Use the `max()` method for pandas.DataFrames to calculate the maximum value of a penguin’s body mass by year and species.\n",
    "2. Use (1) to display the highest body masses per year and species as a bar plot in descending order."
   ]
  },
  {
   "cell_type": "code",
   "execution_count": null,
   "id": "614dca97-39e6-4f15-9964-d6b4924d0de2",
   "metadata": {
    "tags": []
   },
   "outputs": [],
   "source": [
    "penguins.columns"
   ]
  },
  {
   "cell_type": "code",
   "execution_count": null,
   "id": "33f76904-a4f1-49e5-8ce4-ec8bdd1b8c3a",
   "metadata": {
    "tags": []
   },
   "outputs": [],
   "source": [
    "# by year and species\n",
    "\n",
    "(penguins.groupby(['year','species'])\n",
    "         .body_mass_g\n",
    "         .max()\n",
    ")\n"
   ]
  },
  {
   "cell_type": "code",
   "execution_count": null,
   "id": "a1da4aa3-49c8-4137-9ec0-6b792f0fb6a0",
   "metadata": {
    "tags": []
   },
   "outputs": [],
   "source": [
    "(penguins.groupby(['year','species'])\n",
    "         .body_mass_g\n",
    "         .max()\n",
    "         .sort_values() #sorts the bar plots\n",
    "         .plot(kind = 'barh'), \n",
    "                title = 'Max Penguin Body Mass (g) by Species per Year', \n",
    "                xlabel = ('Year', 'Species'), \n",
    "                ylabel = ('Body mass (g)')\n",
    ")\n"
   ]
  }
 ],
 "metadata": {
  "kernelspec": {
   "display_name": "EDS220",
   "language": "python",
   "name": "eds220-env"
  },
  "language_info": {
   "codemirror_mode": {
    "name": "ipython",
    "version": 3
   },
   "file_extension": ".py",
   "mimetype": "text/x-python",
   "name": "python",
   "nbconvert_exporter": "python",
   "pygments_lexer": "ipython3",
   "version": "3.11.4"
  }
 },
 "nbformat": 4,
 "nbformat_minor": 5
}
