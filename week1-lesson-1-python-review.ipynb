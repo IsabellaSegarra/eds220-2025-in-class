{
 "cells": [
  {
   "cell_type": "markdown",
   "id": "5c99d0ed-6d86-4322-ac0b-83ec6445302c",
   "metadata": {},
   "source": [
    "# Python Review\n",
    "\n",
    "Goals :\n",
    "- recall basic Python vocabulary \n",
    "- practice markdown\n"
   ]
  },
  {
   "cell_type": "markdown",
   "id": "2fef40df-1d55-407d-9627-5218f4a3c880",
   "metadata": {},
   "source": [
    "## Libraries and packages\n",
    "\n",
    "**Library**: a collection of code that we can use to preform specific tasks in our programs.\n",
    "\n",
    "**NumPy**:\n",
    "- core library for numerical computing in Python\n",
    "- many other libraries use NumPy arrays as building blocks\n",
    "- computations on NumPy are optimized for speed and memory usage\n",
    "\n",
    "Lets import NumPy with **standard abreviation**"
   ]
  },
  {
   "cell_type": "code",
   "execution_count": 1,
   "id": "19583625-5623-4038-a058-22c0467f64ec",
   "metadata": {
    "tags": []
   },
   "outputs": [],
   "source": [
    "import numpy as np"
   ]
  },
  {
   "cell_type": "markdown",
   "id": "53e75481-c944-4875-839f-125a87c5ba99",
   "metadata": {},
   "source": [
    "## Variables \n",
    "\n",
    "**Variables**: a name we assign to a particular object in Python.\n",
    "\n",
    "Example: "
   ]
  },
  {
   "cell_type": "code",
   "execution_count": 3,
   "id": "2ffbda45-6397-4188-9e04-67426e485769",
   "metadata": {
    "tags": []
   },
   "outputs": [],
   "source": [
    "# Assign a small array to a variable a\n",
    "\n",
    "a = np.array([[1,2,2],[3,5,8]])"
   ]
  },
  {
   "cell_type": "code",
   "execution_count": 4,
   "id": "536790c2-8f07-4e86-b45a-0f29f5a3f557",
   "metadata": {
    "tags": []
   },
   "outputs": [
    {
     "data": {
      "text/plain": [
       "array([[1, 2, 2],\n",
       "       [3, 5, 8]])"
      ]
     },
     "execution_count": 4,
     "metadata": {},
     "output_type": "execute_result"
    }
   ],
   "source": [
    "# Run cell with the variable name to show value\n",
    "a"
   ]
  },
  {
   "cell_type": "code",
   "execution_count": 5,
   "id": "0e20d557-2682-4d7b-86c9-a4176644fba5",
   "metadata": {
    "tags": []
   },
   "outputs": [
    {
     "name": "stdout",
     "output_type": "stream",
     "text": [
      "[[1 2 2]\n",
      " [3 5 8]]\n"
     ]
    }
   ],
   "source": [
    "# Use 'print' function to print the value \n",
    "\n",
    "print(a)"
   ]
  },
  {
   "cell_type": "markdown",
   "id": "f5ef4dca-37f7-42a8-8777-0169478150f9",
   "metadata": {},
   "source": [
    "## Objects\n",
    "\n",
    "**object**: is a bundle of *properties* and *actions* about something specific. \n",
    "\n",
    "Example:\n",
    "\n",
    "Object: data frame\n",
    "\n",
    "Properties: number rows, names of the columns, date created\n",
    "\n",
    "Actions: selecting a specific row, adding a new column \n",
    "\n",
    "A variable is the name we give a specific object, and the same object can be refrenced by different variables. \n",
    "\n",
    "In practice, we. an often use variable and object interchangeably. "
   ]
  },
  {
   "cell_type": "code",
   "execution_count": null,
   "id": "2f8a5ef5-2b0e-4974-ba76-a589da41be1e",
   "metadata": {},
   "outputs": [],
   "source": []
  }
 ],
 "metadata": {
  "kernelspec": {
   "display_name": "EDS220",
   "language": "python",
   "name": "eds220-env"
  },
  "language_info": {
   "codemirror_mode": {
    "name": "ipython",
    "version": 3
   },
   "file_extension": ".py",
   "mimetype": "text/x-python",
   "name": "python",
   "nbconvert_exporter": "python",
   "pygments_lexer": "ipython3",
   "version": "3.11.4"
  }
 },
 "nbformat": 4,
 "nbformat_minor": 5
}
