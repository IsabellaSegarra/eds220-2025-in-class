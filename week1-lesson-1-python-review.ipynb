{
 "cells": [
  {
   "cell_type": "markdown",
   "id": "5c99d0ed-6d86-4322-ac0b-83ec6445302c",
   "metadata": {},
   "source": [
    "# Python Review\n",
    "\n",
    "Goals :\n",
    "- recall basic Python vocabulary \n",
    "- practice markdown\n"
   ]
  },
  {
   "cell_type": "markdown",
   "id": "2fef40df-1d55-407d-9627-5218f4a3c880",
   "metadata": {},
   "source": [
    "## Libraries and packages\n",
    "\n",
    "**Library**: a collection of code that we can use to preform specific tasks in our programs.\n",
    "\n",
    "**NumPy**:\n",
    "- core library for numerical computing in Python\n",
    "- many other libraries use NumPy arrays as building blocks\n",
    "- computations on NumPy are optimized for speed and memory usage\n",
    "\n",
    "Lets import NumPy with **standard abreviation**"
   ]
  },
  {
   "cell_type": "code",
   "execution_count": 1,
   "id": "19583625-5623-4038-a058-22c0467f64ec",
   "metadata": {
    "tags": []
   },
   "outputs": [],
   "source": [
    "import numpy as np"
   ]
  },
  {
   "cell_type": "markdown",
   "id": "53e75481-c944-4875-839f-125a87c5ba99",
   "metadata": {},
   "source": [
    "## Variables \n",
    "\n",
    "**Variables**: a name we assign to a particular object in Python.\n",
    "\n",
    "Example: "
   ]
  },
  {
   "cell_type": "code",
   "execution_count": 2,
   "id": "2ffbda45-6397-4188-9e04-67426e485769",
   "metadata": {
    "tags": []
   },
   "outputs": [],
   "source": [
    "# Assign a small array to a variable a\n",
    "\n",
    "a = np.array([[1,2,2],[3,5,8]])"
   ]
  },
  {
   "cell_type": "code",
   "execution_count": 3,
   "id": "536790c2-8f07-4e86-b45a-0f29f5a3f557",
   "metadata": {
    "tags": []
   },
   "outputs": [
    {
     "data": {
      "text/plain": [
       "array([[1, 2, 2],\n",
       "       [3, 5, 8]])"
      ]
     },
     "execution_count": 3,
     "metadata": {},
     "output_type": "execute_result"
    }
   ],
   "source": [
    "# Run cell with the variable name to show value\n",
    "a"
   ]
  },
  {
   "cell_type": "code",
   "execution_count": 4,
   "id": "0e20d557-2682-4d7b-86c9-a4176644fba5",
   "metadata": {
    "tags": []
   },
   "outputs": [
    {
     "name": "stdout",
     "output_type": "stream",
     "text": [
      "[[1 2 2]\n",
      " [3 5 8]]\n"
     ]
    }
   ],
   "source": [
    "# Use 'print' function to print the value \n",
    "\n",
    "print(a)"
   ]
  },
  {
   "cell_type": "markdown",
   "id": "f5ef4dca-37f7-42a8-8777-0169478150f9",
   "metadata": {},
   "source": [
    "## Objects\n",
    "\n",
    "**object**: is a bundle of *properties* and *actions* about something specific. \n",
    "\n",
    "Example:\n",
    "\n",
    "Object: data frame\n",
    "\n",
    "Properties: number rows, names of the columns, date created\n",
    "\n",
    "Actions: selecting a specific row, adding a new column \n",
    "\n",
    "A variable is the name we give a specific object, and the same object can be refrenced by different variables. \n",
    "\n",
    "In practice, we. an often use variable and object interchangeably. \n",
    "\n",
    "\n",
    "## Types\n",
    "\n",
    "Every object in Python has a **type**. The type tells us what kind of object it is. \n",
    "\n",
    "We can also call the type of an object, the **class** of an object and they both mean what kind of object we have. \n"
   ]
  },
  {
   "cell_type": "code",
   "execution_count": 5,
   "id": "cccabb78-82e7-4be5-8a3f-e1ac51486168",
   "metadata": {
    "tags": []
   },
   "outputs": [
    {
     "name": "stdout",
     "output_type": "stream",
     "text": [
      "[[1 2 2]\n",
      " [3 5 8]]\n"
     ]
    },
    {
     "data": {
      "text/plain": [
       "numpy.ndarray"
      ]
     },
     "execution_count": 5,
     "metadata": {},
     "output_type": "execute_result"
    }
   ],
   "source": [
    "print(a)\n",
    "\n",
    "# Check the type/class of a variable/object by using `type` function\n",
    "\n",
    "type(a)"
   ]
  },
  {
   "cell_type": "code",
   "execution_count": 7,
   "id": "3be3df97-c8a6-40a4-9f6d-ffeea4aad109",
   "metadata": {
    "tags": []
   },
   "outputs": [
    {
     "name": "stdout",
     "output_type": "stream",
     "text": [
      "1\n"
     ]
    },
    {
     "data": {
      "text/plain": [
       "numpy.int64"
      ]
     },
     "execution_count": 7,
     "metadata": {},
     "output_type": "execute_result"
    }
   ],
   "source": [
    "print(a[0,0])\n",
    "\n",
    "# Check the type of an entry on the array by indexing \n",
    "\n",
    "type(a[0,0])"
   ]
  },
  {
   "cell_type": "markdown",
   "id": "0188e4d7-3496-428e-8d7d-1ed8e191a9d3",
   "metadata": {},
   "source": [
    "Notice that `type(a[0,0])` is `numpy.int64` and not just the standard Python integer type. This is telling us that 1 is an integer stored as 64-bit number. "
   ]
  },
  {
   "cell_type": "code",
   "execution_count": 8,
   "id": "857e5cd7-904a-4117-9ee8-69bfc972859f",
   "metadata": {
    "tags": []
   },
   "outputs": [
    {
     "name": "stdout",
     "output_type": "stream",
     "text": [
      "5\n"
     ]
    }
   ],
   "source": [
    "print(a[1,1]) #row 1 is 0"
   ]
  },
  {
   "cell_type": "markdown",
   "id": "32407e4e-bcc1-4896-9ba7-0622bbb0ac3e",
   "metadata": {},
   "source": [
    "## Functions\n",
    "\n",
    "`print` was our first example of a Python **function**. \n",
    "\n",
    "Functions take in a set of **arguments** and those arguments create an **output**. \n",
    "\n",
    "argument = parameter. \n",
    "\n",
    "We can ask information about. afunction by executing `?function`"
   ]
  },
  {
   "cell_type": "code",
   "execution_count": 9,
   "id": "ed18601e-aa4a-4407-b038-21e0167d7603",
   "metadata": {
    "tags": []
   },
   "outputs": [
    {
     "data": {
      "text/plain": [
       "\u001b[0;31mSignature:\u001b[0m \u001b[0mprint\u001b[0m\u001b[0;34m(\u001b[0m\u001b[0;34m*\u001b[0m\u001b[0margs\u001b[0m\u001b[0;34m,\u001b[0m \u001b[0msep\u001b[0m\u001b[0;34m=\u001b[0m\u001b[0;34m' '\u001b[0m\u001b[0;34m,\u001b[0m \u001b[0mend\u001b[0m\u001b[0;34m=\u001b[0m\u001b[0;34m'\\n'\u001b[0m\u001b[0;34m,\u001b[0m \u001b[0mfile\u001b[0m\u001b[0;34m=\u001b[0m\u001b[0;32mNone\u001b[0m\u001b[0;34m,\u001b[0m \u001b[0mflush\u001b[0m\u001b[0;34m=\u001b[0m\u001b[0;32mFalse\u001b[0m\u001b[0;34m)\u001b[0m\u001b[0;34m\u001b[0m\u001b[0;34m\u001b[0m\u001b[0m\n",
       "\u001b[0;31mDocstring:\u001b[0m\n",
       "Prints the values to a stream, or to sys.stdout by default.\n",
       "\n",
       "sep\n",
       "  string inserted between values, default a space.\n",
       "end\n",
       "  string appended after the last value, default a newline.\n",
       "file\n",
       "  a file-like object (stream); defaults to the current sys.stdout.\n",
       "flush\n",
       "  whether to forcibly flush the stream.\n",
       "\u001b[0;31mType:\u001b[0m      builtin_function_or_method"
      ]
     },
     "metadata": {},
     "output_type": "display_data"
    }
   ],
   "source": [
    "?print"
   ]
  },
  {
   "cell_type": "markdown",
   "id": "07aec3a7-23c1-45a7-bc00-2e40f11b4bce",
   "metadata": {},
   "source": [
    "This information is a **docstring**. \n",
    "\n",
    "A function has two types of arguments:\n",
    "\n",
    "- **non-optional arguments**: arguments *you* need to specify for the function to do something\n",
    "- **optional argument**: arguments that are pre-filled with a default value by the function. You can override them. Optional arguments appear inside the parenthesis in the form `optional_argument = default_value`"
   ]
  },
  {
   "cell_type": "code",
   "execution_count": 12,
   "id": "072f46d6-f1b3-48b3-add0-616b9ec7946b",
   "metadata": {
    "tags": []
   },
   "outputs": [
    {
     "name": "stdout",
     "output_type": "stream",
     "text": [
      "changing the default end argument :)"
     ]
    }
   ],
   "source": [
    "print('changing the default end argument', end = ' :)')"
   ]
  },
  {
   "cell_type": "markdown",
   "id": "1cd4f483-8d78-47dc-9fc9-aea3731ed7aa",
   "metadata": {},
   "source": [
    "## Attributes & Methods\n",
    "\n",
    "An object in Python has attributes and methods. \n",
    "\n",
    "- **atribute**: a property of an object, some piece of information about it\n",
    "- **method**: a procedure associated with an obect, an action where the main ingredient is the object. \n",
    "\n",
    "### Check-in \n",
    "\n",
    "Fish attributes:\n",
    "\n",
    "- length, color, species\n",
    "-  die(), bite(), swim()\n",
    "\n",
    "**Example**\n",
    "\n",
    "Attributes for `numpy.arrays`\n",
    "\n",
    "We cna access a variable's attributes and methods by adding a `.` at the end of the variable's name. \n",
    "\n",
    "`variable.method()` or `variable.attribute`"
   ]
  },
  {
   "cell_type": "code",
   "execution_count": 13,
   "id": "054d43f9-2ae8-46a8-85c6-ff5ddb63d3c2",
   "metadata": {
    "tags": []
   },
   "outputs": [
    {
     "data": {
      "text/plain": [
       "(2, 3)"
      ]
     },
     "execution_count": 13,
     "metadata": {},
     "output_type": "execute_result"
    }
   ],
   "source": [
    "a.shape"
   ]
  },
  {
   "cell_type": "code",
   "execution_count": 14,
   "id": "49989e88-8308-4916-a7c7-d6321fb65de5",
   "metadata": {
    "tags": []
   },
   "outputs": [
    {
     "data": {
      "text/plain": [
       "tuple"
      ]
     },
     "execution_count": 14,
     "metadata": {},
     "output_type": "execute_result"
    }
   ],
   "source": [
    "type(a.shape)"
   ]
  },
  {
   "cell_type": "code",
   "execution_count": 21,
   "id": "30dca33e-2f07-4ae6-bb0f-2aad8c6ca118",
   "metadata": {
    "tags": []
   },
   "outputs": [
    {
     "data": {
      "text/plain": [
       "array([1, 2, 2])"
      ]
     },
     "execution_count": 21,
     "metadata": {},
     "output_type": "execute_result"
    }
   ],
   "source": [
    "# Methods examples\n",
    "\n",
    "# min() returns the minimum value along a specified axis. \n",
    "\n",
    "a.min(axis=0)"
   ]
  },
  {
   "cell_type": "markdown",
   "id": "33a2d1dd-405d-4248-824f-f836c99d094c",
   "metadata": {},
   "source": [
    "## Check-in\n",
    "\n",
    "We can also call the `min` method without any parameters:"
   ]
  },
  {
   "cell_type": "code",
   "execution_count": 19,
   "id": "4e7abebc-4434-470d-9e36-680902f2bf38",
   "metadata": {
    "tags": []
   },
   "outputs": [
    {
     "data": {
      "text/plain": [
       "1"
      ]
     },
     "execution_count": 19,
     "metadata": {},
     "output_type": "execute_result"
    }
   ],
   "source": [
    "a.min()"
   ]
  },
  {
   "cell_type": "markdown",
   "id": "a5cccb92-3f1d-44b5-a201-2ebe0ffbe9ca",
   "metadata": {},
   "source": [
    "Remember: methods are functions associated with an object. "
   ]
  },
  {
   "cell_type": "code",
   "execution_count": 22,
   "id": "4328c8f3-90fc-4227-ad00-045f793f0024",
   "metadata": {
    "tags": []
   },
   "outputs": [
    {
     "data": {
      "text/plain": [
       "builtin_function_or_method"
      ]
     },
     "execution_count": 22,
     "metadata": {},
     "output_type": "execute_result"
    }
   ],
   "source": [
    "type(a.min)"
   ]
  },
  {
   "cell_type": "markdown",
   "id": "bee1290b-1685-4444-ad02-8b9b2107bd0e",
   "metadata": {},
   "source": [
    "## Excercse\n",
    "\n",
    "1. Read the `print` function help. What is the type of the argument `sep`? Is this an optional or non-optional argument? Why?\n",
    "\n",
    "2. Create two new variables, one with the integer value 77 and another with the string 99.\n",
    "\n",
    "3. Use your variables to print `77%99%77` by changing the value of one of the optional arguments in `print`."
   ]
  },
  {
   "cell_type": "code",
   "execution_count": 23,
   "id": "9bd12b73-9898-44fa-8b81-87a3c03ce0f4",
   "metadata": {
    "tags": []
   },
   "outputs": [
    {
     "data": {
      "text/plain": [
       "\u001b[0;31mSignature:\u001b[0m \u001b[0mprint\u001b[0m\u001b[0;34m(\u001b[0m\u001b[0;34m*\u001b[0m\u001b[0margs\u001b[0m\u001b[0;34m,\u001b[0m \u001b[0msep\u001b[0m\u001b[0;34m=\u001b[0m\u001b[0;34m' '\u001b[0m\u001b[0;34m,\u001b[0m \u001b[0mend\u001b[0m\u001b[0;34m=\u001b[0m\u001b[0;34m'\\n'\u001b[0m\u001b[0;34m,\u001b[0m \u001b[0mfile\u001b[0m\u001b[0;34m=\u001b[0m\u001b[0;32mNone\u001b[0m\u001b[0;34m,\u001b[0m \u001b[0mflush\u001b[0m\u001b[0;34m=\u001b[0m\u001b[0;32mFalse\u001b[0m\u001b[0;34m)\u001b[0m\u001b[0;34m\u001b[0m\u001b[0;34m\u001b[0m\u001b[0m\n",
       "\u001b[0;31mDocstring:\u001b[0m\n",
       "Prints the values to a stream, or to sys.stdout by default.\n",
       "\n",
       "sep\n",
       "  string inserted between values, default a space.\n",
       "end\n",
       "  string appended after the last value, default a newline.\n",
       "file\n",
       "  a file-like object (stream); defaults to the current sys.stdout.\n",
       "flush\n",
       "  whether to forcibly flush the stream.\n",
       "\u001b[0;31mType:\u001b[0m      builtin_function_or_method"
      ]
     },
     "metadata": {},
     "output_type": "display_data"
    }
   ],
   "source": [
    "?print"
   ]
  },
  {
   "cell_type": "code",
   "execution_count": 28,
   "id": "5cba9bfa-c8f8-4746-b436-c79d95334adb",
   "metadata": {
    "tags": []
   },
   "outputs": [],
   "source": [
    "# 1. sep is a string inserted between values. Sep is an optional argument with the type 'built-in function'\n",
    "\n",
    "# sep is the seperating between numbers"
   ]
  },
  {
   "cell_type": "code",
   "execution_count": 27,
   "id": "39a8c578-5778-4992-8848-06b809fdc811",
   "metadata": {
    "tags": []
   },
   "outputs": [
    {
     "data": {
      "text/plain": [
       "'99'"
      ]
     },
     "execution_count": 27,
     "metadata": {},
     "output_type": "execute_result"
    }
   ],
   "source": [
    "#2#2. \n",
    "\n",
    "b = 77 #integer\n",
    "c = '99' #string \n",
    "\n",
    "b\n",
    "c"
   ]
  },
  {
   "cell_type": "code",
   "execution_count": 29,
   "id": "33788e48-51f0-4e04-9442-2cb337c9fbe7",
   "metadata": {
    "tags": []
   },
   "outputs": [
    {
     "name": "stdout",
     "output_type": "stream",
     "text": [
      "77%99%77\n"
     ]
    }
   ],
   "source": [
    "print(b,c,b, sep = '%')"
   ]
  },
  {
   "cell_type": "code",
   "execution_count": null,
   "id": "4cd799a3-8977-448b-b4be-12f0a6b15909",
   "metadata": {},
   "outputs": [],
   "source": []
  }
 ],
 "metadata": {
  "kernelspec": {
   "display_name": "EDS220",
   "language": "python",
   "name": "eds220-env"
  },
  "language_info": {
   "codemirror_mode": {
    "name": "ipython",
    "version": 3
   },
   "file_extension": ".py",
   "mimetype": "text/x-python",
   "name": "python",
   "nbconvert_exporter": "python",
   "pygments_lexer": "ipython3",
   "version": "3.11.4"
  }
 },
 "nbformat": 4,
 "nbformat_minor": 5
}
