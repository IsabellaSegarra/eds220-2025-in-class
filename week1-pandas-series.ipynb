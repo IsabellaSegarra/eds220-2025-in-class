{
 "cells": [
  {
   "cell_type": "markdown",
   "id": "c0f57d43-b5ba-48aa-81cb-4f95159db677",
   "metadata": {},
   "source": [
    "# Pandas series and data frames\n",
    "\n",
    "In this lesson we introduce the two core objects in the pandas library, the pandas.Series and the pandas.DataFrame. The overall goal is to gain familiarity with these two objects, understand their relation to each other, and review Python data structures such as dictionaries and lists."
   ]
  },
  {
   "cell_type": "code",
   "execution_count": 1,
   "id": "021e799a-0ba4-42fb-b293-6a21159c311a",
   "metadata": {
    "tags": []
   },
   "outputs": [],
   "source": [
    "import pandas as pd\n",
    "import numpy as np"
   ]
  },
  {
   "cell_type": "markdown",
   "id": "b6ff7610-01ff-4cc2-8831-123acce0c2e9",
   "metadata": {},
   "source": [
    "## Series\n",
    "\n",
    "A series is a one-dimensional array of indexed data.\n",
    "\n",
    "A pandas.Series having an index is the main difference between a pandas.Series and a NumPy array."
   ]
  },
  {
   "cell_type": "code",
   "execution_count": 2,
   "id": "e5d30d0e-3afa-42ca-b01e-67086176f0ae",
   "metadata": {
    "tags": []
   },
   "outputs": [
    {
     "name": "stdout",
     "output_type": "stream",
     "text": [
      "<class 'numpy.ndarray'>\n",
      "[ 0.89049409  0.02421328 -0.14519775 -0.03044247] \n",
      "\n",
      "<class 'pandas.core.series.Series'>\n",
      "0    0.890494\n",
      "1    0.024213\n",
      "2   -0.145198\n",
      "3   -0.030442\n",
      "dtype: float64\n"
     ]
    }
   ],
   "source": [
    "# A numpy array\n",
    "arr = np.random.randn(4) # random values from std normal distribution\n",
    "print(type(arr))\n",
    "print(arr, \"\\n\")\n",
    "\n",
    "# A pandas series made from the previous array\n",
    "s = pd.Series(arr)\n",
    "print(type(s))\n",
    "print(s)"
   ]
  },
  {
   "cell_type": "markdown",
   "id": "96a40453-9794-40bc-ad1d-db99a9be04e2",
   "metadata": {},
   "source": [
    "## Creating a Panda series\n",
    "\n",
    "The data parameter can be:\n",
    "\n",
    "- a list or NumPy array,\n",
    "- a Python dictionary, or\n",
    "- a single number, boolean (True/False), or string."
   ]
  },
  {
   "cell_type": "code",
   "execution_count": 6,
   "id": "56f423af-de47-4842-b778-d26fc5c9fcf3",
   "metadata": {
    "tags": []
   },
   "outputs": [],
   "source": [
    "s = pd.Series(data, index=index) #index parameter optional"
   ]
  },
  {
   "cell_type": "markdown",
   "id": "497ea0c9-e426-499f-bc55-e541e2677956",
   "metadata": {},
   "source": [
    "### Creating a pandas.Series from a NumPy array"
   ]
  },
  {
   "cell_type": "code",
   "execution_count": 7,
   "id": "c3b599e0-7309-4a37-bf1d-ebf4b0e5fc6b",
   "metadata": {
    "tags": []
   },
   "outputs": [
    {
     "data": {
      "text/plain": [
       "2023    0\n",
       "2024    1\n",
       "2025    2\n",
       "dtype: int64"
      ]
     },
     "execution_count": 7,
     "metadata": {},
     "output_type": "execute_result"
    }
   ],
   "source": [
    "# A series from a numpy array \n",
    "pd.Series(np.arange(3), index=[2023, 2024, 2025])"
   ]
  },
  {
   "cell_type": "markdown",
   "id": "c2c85688-0ec7-43b2-a000-fb0485a9f6b8",
   "metadata": {},
   "source": [
    "### Creating a pandas.Series from a list\n",
    "\n",
    " If we don’t include an index, the default is to make the index equal to [0,...,len(data)-1]"
   ]
  },
  {
   "cell_type": "code",
   "execution_count": 8,
   "id": "ee76d431-efa1-4d10-a9e0-d506efa840c3",
   "metadata": {
    "tags": []
   },
   "outputs": [
    {
     "data": {
      "text/plain": [
       "0    EDS 220\n",
       "1    EDS 222\n",
       "2    EDS 223\n",
       "3    EDS 242\n",
       "dtype: object"
      ]
     },
     "execution_count": 8,
     "metadata": {},
     "output_type": "execute_result"
    }
   ],
   "source": [
    "# A series from a list of strings with default index\n",
    "pd.Series(['EDS 220', 'EDS 222', 'EDS 223', 'EDS 242'])"
   ]
  },
  {
   "cell_type": "code",
   "execution_count": 9,
   "id": "76ff983b-d967-49e3-bc19-9e7c18dd39a5",
   "metadata": {
    "tags": []
   },
   "outputs": [
    {
     "data": {
      "text/plain": [
       "0       red\n",
       "1    yellow\n",
       "2      blue\n",
       "3     green\n",
       "dtype: object"
      ]
     },
     "execution_count": 9,
     "metadata": {},
     "output_type": "execute_result"
    }
   ],
   "source": [
    "#practice\n",
    "\n",
    "pd.Series(['red', 'yellow', 'blue', 'green'])"
   ]
  },
  {
   "cell_type": "markdown",
   "id": "f069d74b-4bd0-4b6f-8d93-9d97e2f7c9de",
   "metadata": {},
   "source": [
    "### Creating a pandas.Series from a dictionary\n",
    "\n",
    "- recall that a dictionary is a set of key-value pairs"
   ]
  },
  {
   "cell_type": "code",
   "execution_count": 10,
   "id": "d99c73da-fc82-4c12-bd84-7b17cd41164f",
   "metadata": {
    "tags": []
   },
   "outputs": [
    {
     "data": {
      "text/plain": [
       "key_0    2\n",
       "key_1    3\n",
       "key_2    5\n",
       "dtype: object"
      ]
     },
     "execution_count": 10,
     "metadata": {},
     "output_type": "execute_result"
    }
   ],
   "source": [
    "# Construct dictionary\n",
    "d = {'key_0':2, 'key_1':'3', 'key_2':5}\n",
    "\n",
    "# Initialize series using a dictionary\n",
    "pd.Series(d)\n",
    "\n",
    "#object= list of strings and numbers"
   ]
  },
  {
   "cell_type": "markdown",
   "id": "63bf756b-dae3-4046-b252-18a988812073",
   "metadata": {},
   "source": [
    "### Creating a pandas.Series from a single value"
   ]
  },
  {
   "cell_type": "code",
   "execution_count": 11,
   "id": "6a27f540-f140-428e-abb6-f3a8399f8ba7",
   "metadata": {
    "tags": []
   },
   "outputs": [
    {
     "data": {
      "text/plain": [
       "A    3.0\n",
       "B    3.0\n",
       "C    3.0\n",
       "dtype: float64"
      ]
     },
     "execution_count": 11,
     "metadata": {},
     "output_type": "execute_result"
    }
   ],
   "source": [
    "pd.Series(3.0, index = ['A', 'B', 'C'])"
   ]
  },
  {
   "cell_type": "markdown",
   "id": "6ae333c9-e70e-4c05-949c-4d8ec4f47948",
   "metadata": {},
   "source": [
    "### Operations on a series"
   ]
  },
  {
   "cell_type": "code",
   "execution_count": null,
   "id": "9b93694e-051e-4dbf-a3c6-7ad4b493bc4f",
   "metadata": {},
   "outputs": [],
   "source": [
    "# Define a series\n",
    "s = pd.Series([98,73,65],index=['Andrea', 'Beth', 'Carolina'])\n",
    "\n",
    "# Divide each element in series by 10\n",
    "print(s /10, '\\n')\n",
    "\n",
    "# Take the exponential of each element in series\n",
    "print(np.exp(s), '\\n')\n",
    "\n",
    "# Original series is unchanged\n",
    "print(s)"
   ]
  },
  {
   "cell_type": "code",
   "execution_count": 13,
   "id": "6d3417ab-4fa3-44cc-abb4-c683a5f5a2b9",
   "metadata": {
    "tags": []
   },
   "outputs": [
    {
     "name": "stdout",
     "output_type": "stream",
     "text": [
      "Andrea      98\n",
      "Beth        73\n",
      "Carolina    65\n",
      "dtype: int64\n"
     ]
    }
   ],
   "source": [
    "# Define a series\n",
    "s = pd.Series([98,73,65],index=['Andrea', 'Beth', 'Carolina'])\n",
    "\n",
    "print(s)\n"
   ]
  },
  {
   "cell_type": "code",
   "execution_count": 20,
   "id": "cc06b9ba-ce99-4edc-849a-d39df455f96a",
   "metadata": {
    "tags": []
   },
   "outputs": [
    {
     "name": "stdout",
     "output_type": "stream",
     "text": [
      "{'Andrea': 98, 'Beth': 73, 'Carolina': 65}\n",
      "<class 'dict'>\n"
     ]
    }
   ],
   "source": [
    "sdic = {'Andrea':98, 'Beth':73, 'Carolina': 65}\n",
    "\n",
    "print(sdic)\n",
    "print(type(sdic))"
   ]
  },
  {
   "cell_type": "code",
   "execution_count": 23,
   "id": "41aa3899-ca5a-4745-a84a-92921348fbbe",
   "metadata": {
    "tags": []
   },
   "outputs": [
    {
     "data": {
      "text/plain": [
       "Andrea       True\n",
       "Beth         True\n",
       "Carolina    False\n",
       "dtype: bool"
      ]
     },
     "execution_count": 23,
     "metadata": {},
     "output_type": "execute_result"
    }
   ],
   "source": [
    "# e can also produce new pandas.Series with True/False values indicating whether the elements in a series satisfy a condition or not:\n",
    "s > 70"
   ]
  },
  {
   "cell_type": "markdown",
   "id": "b69c59b9-20a9-4fa5-bdb2-bba13e8c7021",
   "metadata": {},
   "source": [
    "### Identifying missing values"
   ]
  },
  {
   "cell_type": "code",
   "execution_count": 24,
   "id": "44b1daef-710a-4293-9fd5-74ca7ac10e2f",
   "metadata": {
    "tags": []
   },
   "outputs": [
    {
     "data": {
      "text/plain": [
       "0    1.0\n",
       "1    2.0\n",
       "2    NaN\n",
       "3    4.0\n",
       "4    NaN\n",
       "dtype: float64"
      ]
     },
     "execution_count": 24,
     "metadata": {},
     "output_type": "execute_result"
    }
   ],
   "source": [
    "# Series with NAs in it\n",
    "s = pd.Series([1, 2, np.nan, 4, np.nan]) #nan means 'not a number'\n",
    "s"
   ]
  },
  {
   "cell_type": "markdown",
   "id": "3cab3316-29c2-4227-a940-373a3ab80432",
   "metadata": {},
   "source": [
    "The `hasnans` attribute for a pandas.Series returns True if there are any NA values in it and false otherwise:"
   ]
  },
  {
   "cell_type": "code",
   "execution_count": 25,
   "id": "d7b5f092-7b89-4cf4-a82b-efaceabca06d",
   "metadata": {
    "tags": []
   },
   "outputs": [
    {
     "data": {
      "text/plain": [
       "True"
      ]
     },
     "execution_count": 25,
     "metadata": {},
     "output_type": "execute_result"
    }
   ],
   "source": [
    "# Check if series has NAs\n",
    "s.hasnans"
   ]
  },
  {
   "cell_type": "code",
   "execution_count": 27,
   "id": "ce915fd9-c4e3-4a39-a9dd-422a46f6e2bd",
   "metadata": {
    "tags": []
   },
   "outputs": [
    {
     "data": {
      "text/plain": [
       "0    False\n",
       "1    False\n",
       "2     True\n",
       "3    False\n",
       "4     True\n",
       "dtype: bool"
      ]
     },
     "execution_count": 27,
     "metadata": {},
     "output_type": "execute_result"
    }
   ],
   "source": [
    "s.isna()"
   ]
  },
  {
   "cell_type": "markdown",
   "id": "3cd0bd2e-bd1b-481b-8989-95ad661779db",
   "metadata": {},
   "source": [
    "### Check-in 1\n",
    "\n",
    "The integer number -999 is often used to represent missing values. Create a pandas.Series named s with four integer values, two of which are -999. The index of this series should be the the letters A through D.\n"
   ]
  },
  {
   "cell_type": "code",
   "execution_count": 29,
   "id": "f6d78f40-4bae-4d66-8807-b89901737a88",
   "metadata": {
    "tags": []
   },
   "outputs": [
    {
     "data": {
      "text/plain": [
       "A      3\n",
       "B   -999\n",
       "C      6\n",
       "D   -999\n",
       "dtype: int64"
      ]
     },
     "execution_count": 29,
     "metadata": {},
     "output_type": "execute_result"
    }
   ],
   "source": [
    "s = pd.Series([3,-999,6,-999], index = ['A', 'B', 'C', 'D'])\n",
    "\n",
    "s\n"
   ]
  },
  {
   "cell_type": "markdown",
   "id": "9e8a3fa1-c363-4324-9322-81912b762cd7",
   "metadata": {},
   "source": [
    "In the pandas.Series documentation, look for the method mask(). Use this method to update the series s so that the -999 values are replaced by NA values. HINT: check the first example in the method’s documentation. https://pandas.pydata.org/docs/reference/api/pandas.Series.mask.html"
   ]
  },
  {
   "cell_type": "code",
   "execution_count": 32,
   "id": "13f8c76f-d06a-4830-b09b-44bedf1fe1cf",
   "metadata": {
    "tags": []
   },
   "outputs": [
    {
     "data": {
      "text/plain": [
       "A    3.0\n",
       "B    NaN\n",
       "C    6.0\n",
       "D    NaN\n",
       "dtype: float64"
      ]
     },
     "execution_count": 32,
     "metadata": {},
     "output_type": "execute_result"
    }
   ],
   "source": [
    "s.mask(s < 0)"
   ]
  },
  {
   "cell_type": "markdown",
   "id": "b2338c1a-b14a-4509-bf07-4c4d5a229700",
   "metadata": {},
   "source": [
    "## Data Frames\n",
    "\n",
    "Each column of a pandas.DataFrame is a pandas.Series.\n",
    "\n",
    "In fact, the pandas.DataFrame is a dictionary of pandas.Series, with each column name being the key and the column values being the key’s value."
   ]
  },
  {
   "cell_type": "markdown",
   "id": "1c4e5778-09f5-4134-a2d0-562afd874314",
   "metadata": {},
   "source": [
    "### Creating a pandas.DataFrame"
   ]
  },
  {
   "cell_type": "code",
   "execution_count": 33,
   "id": "73d913c7-f2a5-4177-a16c-8d58cd136e0b",
   "metadata": {
    "tags": []
   },
   "outputs": [
    {
     "data": {
      "text/html": [
       "<div>\n",
       "<style scoped>\n",
       "    .dataframe tbody tr th:only-of-type {\n",
       "        vertical-align: middle;\n",
       "    }\n",
       "\n",
       "    .dataframe tbody tr th {\n",
       "        vertical-align: top;\n",
       "    }\n",
       "\n",
       "    .dataframe thead th {\n",
       "        text-align: right;\n",
       "    }\n",
       "</style>\n",
       "<table border=\"1\" class=\"dataframe\">\n",
       "  <thead>\n",
       "    <tr style=\"text-align: right;\">\n",
       "      <th></th>\n",
       "      <th>col_name_1</th>\n",
       "      <th>col_name_2</th>\n",
       "    </tr>\n",
       "  </thead>\n",
       "  <tbody>\n",
       "    <tr>\n",
       "      <th>0</th>\n",
       "      <td>0</td>\n",
       "      <td>3.1</td>\n",
       "    </tr>\n",
       "    <tr>\n",
       "      <th>1</th>\n",
       "      <td>1</td>\n",
       "      <td>3.2</td>\n",
       "    </tr>\n",
       "    <tr>\n",
       "      <th>2</th>\n",
       "      <td>2</td>\n",
       "      <td>3.3</td>\n",
       "    </tr>\n",
       "  </tbody>\n",
       "</table>\n",
       "</div>"
      ],
      "text/plain": [
       "   col_name_1  col_name_2\n",
       "0           0         3.1\n",
       "1           1         3.2\n",
       "2           2         3.3"
      ]
     },
     "execution_count": 33,
     "metadata": {},
     "output_type": "execute_result"
    }
   ],
   "source": [
    "# Initialize dictionary with columns' data \n",
    "d = {'col_name_1' : pd.Series(np.arange(3)),\n",
    "     'col_name_2' : pd.Series([3.1, 3.2, 3.3]),\n",
    "     }\n",
    "\n",
    "# Create data frame\n",
    "df = pd.DataFrame(d)\n",
    "df"
   ]
  },
  {
   "cell_type": "markdown",
   "id": "abc45317-5993-4529-9449-d05d2020e642",
   "metadata": {},
   "source": [
    " We can change the index by changing the index attribute in the data frame:"
   ]
  },
  {
   "cell_type": "code",
   "execution_count": 34,
   "id": "5f9330dd-cb9b-4305-9990-8f6cfc4be7b6",
   "metadata": {
    "tags": []
   },
   "outputs": [
    {
     "data": {
      "text/html": [
       "<div>\n",
       "<style scoped>\n",
       "    .dataframe tbody tr th:only-of-type {\n",
       "        vertical-align: middle;\n",
       "    }\n",
       "\n",
       "    .dataframe tbody tr th {\n",
       "        vertical-align: top;\n",
       "    }\n",
       "\n",
       "    .dataframe thead th {\n",
       "        text-align: right;\n",
       "    }\n",
       "</style>\n",
       "<table border=\"1\" class=\"dataframe\">\n",
       "  <thead>\n",
       "    <tr style=\"text-align: right;\">\n",
       "      <th></th>\n",
       "      <th>col_name_1</th>\n",
       "      <th>col_name_2</th>\n",
       "    </tr>\n",
       "  </thead>\n",
       "  <tbody>\n",
       "    <tr>\n",
       "      <th>a</th>\n",
       "      <td>0</td>\n",
       "      <td>3.1</td>\n",
       "    </tr>\n",
       "    <tr>\n",
       "      <th>b</th>\n",
       "      <td>1</td>\n",
       "      <td>3.2</td>\n",
       "    </tr>\n",
       "    <tr>\n",
       "      <th>c</th>\n",
       "      <td>2</td>\n",
       "      <td>3.3</td>\n",
       "    </tr>\n",
       "  </tbody>\n",
       "</table>\n",
       "</div>"
      ],
      "text/plain": [
       "   col_name_1  col_name_2\n",
       "a           0         3.1\n",
       "b           1         3.2\n",
       "c           2         3.3"
      ]
     },
     "execution_count": 34,
     "metadata": {},
     "output_type": "execute_result"
    }
   ],
   "source": [
    "# Change index\n",
    "df.index = ['a','b','c']\n",
    "df"
   ]
  },
  {
   "cell_type": "markdown",
   "id": "1571f629-fa88-470e-87f4-eec7d1f7e64e",
   "metadata": {},
   "source": [
    "### Check- in 2\n",
    "\n",
    "We can access the data frame’s column names via the columns attribute. Update the column names to C1 and C2 by updating this attribute."
   ]
  },
  {
   "cell_type": "code",
   "execution_count": 39,
   "id": "50e7ab53-3678-4d1a-aa41-9a9256de0cdc",
   "metadata": {
    "tags": []
   },
   "outputs": [],
   "source": [
    "df = df.rename(columns = {'col_name_1':'C1'})"
   ]
  },
  {
   "cell_type": "code",
   "execution_count": 40,
   "id": "096634c4-c9dd-45d4-99f4-c9c2efb6c3c6",
   "metadata": {
    "tags": []
   },
   "outputs": [
    {
     "data": {
      "text/html": [
       "<div>\n",
       "<style scoped>\n",
       "    .dataframe tbody tr th:only-of-type {\n",
       "        vertical-align: middle;\n",
       "    }\n",
       "\n",
       "    .dataframe tbody tr th {\n",
       "        vertical-align: top;\n",
       "    }\n",
       "\n",
       "    .dataframe thead th {\n",
       "        text-align: right;\n",
       "    }\n",
       "</style>\n",
       "<table border=\"1\" class=\"dataframe\">\n",
       "  <thead>\n",
       "    <tr style=\"text-align: right;\">\n",
       "      <th></th>\n",
       "      <th>C1</th>\n",
       "      <th>C2</th>\n",
       "    </tr>\n",
       "  </thead>\n",
       "  <tbody>\n",
       "    <tr>\n",
       "      <th>a</th>\n",
       "      <td>0</td>\n",
       "      <td>3.1</td>\n",
       "    </tr>\n",
       "    <tr>\n",
       "      <th>b</th>\n",
       "      <td>1</td>\n",
       "      <td>3.2</td>\n",
       "    </tr>\n",
       "    <tr>\n",
       "      <th>c</th>\n",
       "      <td>2</td>\n",
       "      <td>3.3</td>\n",
       "    </tr>\n",
       "  </tbody>\n",
       "</table>\n",
       "</div>"
      ],
      "text/plain": [
       "   C1   C2\n",
       "a   0  3.1\n",
       "b   1  3.2\n",
       "c   2  3.3"
      ]
     },
     "execution_count": 40,
     "metadata": {},
     "output_type": "execute_result"
    }
   ],
   "source": [
    "df = df.rename(columns = {'col_name_2':'C2'})\n",
    "\n",
    "df"
   ]
  },
  {
   "cell_type": "markdown",
   "id": "30bd8008-3986-4d44-a3b6-c1acdb08947f",
   "metadata": {},
   "source": [
    "## Summary of activity"
   ]
  },
  {
   "cell_type": "markdown",
   "id": "2d0bfffb-73e1-4111-bd5b-3d9746f81705",
   "metadata": {},
   "source": [
    "In this activity, we defined pd.Series and pd.Dataframes. A series is a one dimensional array of indexed data. A dataframe is a dictionary of series."
   ]
  },
  {
   "cell_type": "code",
   "execution_count": null,
   "id": "e794afa0-8ebe-4ddf-b736-8ece194dc276",
   "metadata": {},
   "outputs": [],
   "source": []
  }
 ],
 "metadata": {
  "kernelspec": {
   "display_name": "EDS220",
   "language": "python",
   "name": "eds220-env"
  },
  "language_info": {
   "codemirror_mode": {
    "name": "ipython",
    "version": 3
   },
   "file_extension": ".py",
   "mimetype": "text/x-python",
   "name": "python",
   "nbconvert_exporter": "python",
   "pygments_lexer": "ipython3",
   "version": "3.11.4"
  }
 },
 "nbformat": 4,
 "nbformat_minor": 5
}
